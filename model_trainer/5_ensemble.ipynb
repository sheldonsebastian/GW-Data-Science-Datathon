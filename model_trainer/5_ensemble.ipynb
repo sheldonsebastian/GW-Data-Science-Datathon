{
 "cells": [
  {
   "cell_type": "markdown",
   "metadata": {},
   "source": [
    "# Ensemble"
   ]
  },
  {
   "cell_type": "code",
   "execution_count": 62,
   "metadata": {},
   "outputs": [],
   "source": [
    "import pandas as pd\n",
    "import numpy as np"
   ]
  },
  {
   "cell_type": "code",
   "execution_count": 63,
   "metadata": {},
   "outputs": [],
   "source": [
    "# external imports\n",
    "%run ../common/utilities.ipynb"
   ]
  },
  {
   "cell_type": "markdown",
   "metadata": {},
   "source": [
    "**Load Pickled Files**"
   ]
  },
  {
   "cell_type": "code",
   "execution_count": 64,
   "metadata": {},
   "outputs": [],
   "source": [
    "X_test = load_object(\"../input_data/\", \"X_test\")\n",
    "y_test = load_object(\"../input_data/\", \"y_test\")"
   ]
  },
  {
   "cell_type": "markdown",
   "metadata": {},
   "source": [
    "**Prep models**"
   ]
  },
  {
   "cell_type": "code",
   "execution_count": 65,
   "metadata": {},
   "outputs": [],
   "source": [
    "logistic_regression = load_object(\"./best_saved_models/\", \"logistic_regression\")\n",
    "decision_tree = load_object(\"./best_saved_models/\", \"decision_tree\")\n",
    "random_forest = load_object(\"./best_saved_models/\", \"random_forest\")\n",
    "xgboost_model = load_object(\"./best_saved_models/\", \"XGBoost\")"
   ]
  },
  {
   "cell_type": "markdown",
   "metadata": {},
   "source": [
    "**Predict for Test Data**"
   ]
  },
  {
   "cell_type": "code",
   "execution_count": 66,
   "metadata": {},
   "outputs": [],
   "source": [
    "pred_lr = logistic_regression.predict(X_test)\n",
    "pred_dt = decision_tree.predict(X_test)\n",
    "pred_rfc = random_forest.predict(X_test)\n",
    "pred_xgb = xgboost_model.predict(X_test)"
   ]
  },
  {
   "cell_type": "code",
   "execution_count": 83,
   "metadata": {},
   "outputs": [],
   "source": [
    "# select top3 based on Validation Performance\n",
    "ensembler = pd.DataFrame({\n",
    "                        \"LR\":pred_lr,\n",
    "                        \"RFC\":pred_rfc,\n",
    "                        \"XGB\":pred_xgb\n",
    "                    })"
   ]
  },
  {
   "cell_type": "code",
   "execution_count": 84,
   "metadata": {},
   "outputs": [],
   "source": [
    "# axis =1 or ‘columns’ : get mode of each row\n",
    "ensembled_output = ensembler.mode(axis=1)[0]"
   ]
  },
  {
   "cell_type": "code",
   "execution_count": 85,
   "metadata": {},
   "outputs": [
    {
     "data": {
      "text/plain": [
       "0.43026706231454004"
      ]
     },
     "execution_count": 85,
     "metadata": {},
     "output_type": "execute_result"
    }
   ],
   "source": [
    "f2_measure(y_test, ensembled_output)"
   ]
  },
  {
   "cell_type": "code",
   "execution_count": null,
   "metadata": {},
   "outputs": [],
   "source": []
  }
 ],
 "metadata": {
  "kernelspec": {
   "display_name": "Python 3",
   "language": "python",
   "name": "python3"
  },
  "language_info": {
   "codemirror_mode": {
    "name": "ipython",
    "version": 3
   },
   "file_extension": ".py",
   "mimetype": "text/x-python",
   "name": "python",
   "nbconvert_exporter": "python",
   "pygments_lexer": "ipython3",
   "version": "3.7.9"
  }
 },
 "nbformat": 4,
 "nbformat_minor": 4
}
