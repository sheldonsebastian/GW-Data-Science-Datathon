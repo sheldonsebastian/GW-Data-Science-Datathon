{
 "cells": [
  {
   "cell_type": "markdown",
   "metadata": {},
   "source": [
    "# References\n",
    "\n",
    "- [Linear Regression](https://github.com/yuxiaohuang/teaching/blob/master/gwu/machine_learning_I/fall_2020/code/p2_shallow_learning/p2_c2_supervised_learning/p2_c2_s1_linear_regression/code_example/code_example.ipynb)\n",
    "- [Shallow Model Dipatcher](https://github.com/yuxiaohuang/teaching/blob/master/gwu/machine_learning_I/fall_2020/code/models/p2_shallow_learning/pmlm_models_shallow.ipynb)"
   ]
  },
  {
   "cell_type": "code",
   "execution_count": 1,
   "metadata": {},
   "outputs": [],
   "source": [
    "# imports\n",
    "from sklearn.linear_model import LinearRegression\n",
    "from sklearn.linear_model import SGDRegressor"
   ]
  },
  {
   "cell_type": "markdown",
   "metadata": {},
   "source": [
    "#### Linear Regression Models and variations"
   ]
  },
  {
   "cell_type": "code",
   "execution_count": 2,
   "metadata": {},
   "outputs": [],
   "source": [
    "def linear_regression_normal_equation(X_train, y_train, X_val):\n",
    "    # The LinearRegression\n",
    "    lr = LinearRegression()\n",
    "\n",
    "    # Train lr\n",
    "    lr.fit(X_train, y_train)\n",
    "\n",
    "    # Get the prediction on the validation data using lr\n",
    "    y_val_pred_lr = lr.predict(X_val)\n",
    "    \n",
    "    return y_val_pred_lr"
   ]
  },
  {
   "cell_type": "code",
   "execution_count": 3,
   "metadata": {},
   "outputs": [],
   "source": [
    "def linear_regression_SGD(X_train, y_train, X_val):\n",
    "    # The SGDRegressor\n",
    "    sgdr = SGDRegressor()\n",
    "\n",
    "    # Train sgdr\n",
    "    sgdr.fit(X_train, y_train)\n",
    "\n",
    "    # Get the prediction on the validation data using sgdr\n",
    "    y_val_pred_sgdr = sgdr.predict(X_val)\n",
    "    \n",
    "    return y_val_prd_sgdr"
   ]
  },
  {
   "cell_type": "code",
   "execution_count": null,
   "metadata": {},
   "outputs": [],
   "source": []
  }
 ],
 "metadata": {
  "kernelspec": {
   "display_name": "Python 3",
   "language": "python",
   "name": "python3"
  },
  "language_info": {
   "codemirror_mode": {
    "name": "ipython",
    "version": 3
   },
   "file_extension": ".py",
   "mimetype": "text/x-python",
   "name": "python",
   "nbconvert_exporter": "python",
   "pygments_lexer": "ipython3",
   "version": "3.7.9"
  }
 },
 "nbformat": 4,
 "nbformat_minor": 4
}
