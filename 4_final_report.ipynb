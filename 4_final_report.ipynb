{
 "cells": [
  {
   "cell_type": "code",
   "execution_count": 1,
   "metadata": {},
   "outputs": [],
   "source": [
    "# TODO add banner"
   ]
  },
  {
   "cell_type": "code",
   "execution_count": 2,
   "metadata": {},
   "outputs": [],
   "source": [
    "# TODO add TOC with links to appropriate tasks"
   ]
  },
  {
   "cell_type": "code",
   "execution_count": 3,
   "metadata": {},
   "outputs": [],
   "source": [
    "# imports\n",
    "import pandas as pd"
   ]
  },
  {
   "cell_type": "code",
   "execution_count": 4,
   "metadata": {},
   "outputs": [],
   "source": [
    "# adding external notebooks\n",
    "%run ./common/utilities.ipynb"
   ]
  },
  {
   "cell_type": "code",
   "execution_count": 5,
   "metadata": {},
   "outputs": [
    {
     "name": "stderr",
     "output_type": "stream",
     "text": [
      "C:\\ProgramData\\Anaconda3\\lib\\site-packages\\IPython\\core\\interactiveshell.py:3146: DtypeWarning: Columns (2) have mixed types.Specify dtype option on import or set low_memory=False.\n",
      "  interactivity=interactivity, compiler=compiler, result=result)\n"
     ]
    }
   ],
   "source": [
    "data = pd.read_csv(\"./data/Crash_Details_Table.csv\")"
   ]
  },
  {
   "cell_type": "code",
   "execution_count": 6,
   "metadata": {},
   "outputs": [
    {
     "data": {
      "text/plain": [
       "596381"
      ]
     },
     "execution_count": 6,
     "metadata": {},
     "output_type": "execute_result"
    }
   ],
   "source": [
    "len(data)"
   ]
  },
  {
   "cell_type": "code",
   "execution_count": 7,
   "metadata": {},
   "outputs": [
    {
     "data": {
      "text/html": [
       "<div>\n",
       "<style scoped>\n",
       "    .dataframe tbody tr th:only-of-type {\n",
       "        vertical-align: middle;\n",
       "    }\n",
       "\n",
       "    .dataframe tbody tr th {\n",
       "        vertical-align: top;\n",
       "    }\n",
       "\n",
       "    .dataframe thead th {\n",
       "        text-align: right;\n",
       "    }\n",
       "</style>\n",
       "<table border=\"1\" class=\"dataframe\">\n",
       "  <thead>\n",
       "    <tr style=\"text-align: right;\">\n",
       "      <th></th>\n",
       "      <th>OBJECTID</th>\n",
       "      <th>CRIMEID</th>\n",
       "      <th>CCN</th>\n",
       "      <th>PERSONID</th>\n",
       "      <th>PERSONTYPE</th>\n",
       "      <th>AGE</th>\n",
       "      <th>FATAL</th>\n",
       "      <th>MAJORINJURY</th>\n",
       "      <th>MINORINJURY</th>\n",
       "      <th>VEHICLEID</th>\n",
       "      <th>INVEHICLETYPE</th>\n",
       "      <th>TICKETISSUED</th>\n",
       "      <th>LICENSEPLATESTATE</th>\n",
       "      <th>IMPAIRED</th>\n",
       "      <th>SPEEDING</th>\n",
       "    </tr>\n",
       "  </thead>\n",
       "  <tbody>\n",
       "    <tr>\n",
       "      <th>0</th>\n",
       "      <td>438194351</td>\n",
       "      <td>26872544</td>\n",
       "      <td>16034312</td>\n",
       "      <td>84628234</td>\n",
       "      <td>Passenger</td>\n",
       "      <td>31.0</td>\n",
       "      <td>N</td>\n",
       "      <td>N</td>\n",
       "      <td>N</td>\n",
       "      <td>2275009</td>\n",
       "      <td>Passenger Car/automobile</td>\n",
       "      <td>N</td>\n",
       "      <td>VA</td>\n",
       "      <td>Y</td>\n",
       "      <td>N</td>\n",
       "    </tr>\n",
       "    <tr>\n",
       "      <th>1</th>\n",
       "      <td>438194352</td>\n",
       "      <td>26872544</td>\n",
       "      <td>16034312</td>\n",
       "      <td>84833902</td>\n",
       "      <td>Passenger</td>\n",
       "      <td>31.0</td>\n",
       "      <td>N</td>\n",
       "      <td>N</td>\n",
       "      <td>N</td>\n",
       "      <td>2275009</td>\n",
       "      <td>Passenger Car/automobile</td>\n",
       "      <td>N</td>\n",
       "      <td>VA</td>\n",
       "      <td>Y</td>\n",
       "      <td>N</td>\n",
       "    </tr>\n",
       "    <tr>\n",
       "      <th>2</th>\n",
       "      <td>438194353</td>\n",
       "      <td>26872544</td>\n",
       "      <td>16034312</td>\n",
       "      <td>84938064</td>\n",
       "      <td>Driver</td>\n",
       "      <td>NaN</td>\n",
       "      <td>N</td>\n",
       "      <td>N</td>\n",
       "      <td>N</td>\n",
       "      <td>2275007</td>\n",
       "      <td>Passenger Car/automobile</td>\n",
       "      <td>N</td>\n",
       "      <td>None</td>\n",
       "      <td>N</td>\n",
       "      <td>N</td>\n",
       "    </tr>\n",
       "    <tr>\n",
       "      <th>3</th>\n",
       "      <td>438194354</td>\n",
       "      <td>26872544</td>\n",
       "      <td>16034312</td>\n",
       "      <td>84790164</td>\n",
       "      <td>Driver</td>\n",
       "      <td>31.0</td>\n",
       "      <td>N</td>\n",
       "      <td>N</td>\n",
       "      <td>N</td>\n",
       "      <td>2275009</td>\n",
       "      <td>Passenger Car/automobile</td>\n",
       "      <td>N</td>\n",
       "      <td>VA</td>\n",
       "      <td>N</td>\n",
       "      <td>N</td>\n",
       "    </tr>\n",
       "    <tr>\n",
       "      <th>4</th>\n",
       "      <td>438194355</td>\n",
       "      <td>26872544</td>\n",
       "      <td>16034312</td>\n",
       "      <td>84953497</td>\n",
       "      <td>Passenger</td>\n",
       "      <td>47.0</td>\n",
       "      <td>N</td>\n",
       "      <td>N</td>\n",
       "      <td>Y</td>\n",
       "      <td>2275008</td>\n",
       "      <td>Passenger Car/automobile</td>\n",
       "      <td>N</td>\n",
       "      <td>VA</td>\n",
       "      <td>Y</td>\n",
       "      <td>N</td>\n",
       "    </tr>\n",
       "  </tbody>\n",
       "</table>\n",
       "</div>"
      ],
      "text/plain": [
       "    OBJECTID   CRIMEID       CCN  PERSONID PERSONTYPE   AGE FATAL MAJORINJURY  \\\n",
       "0  438194351  26872544  16034312  84628234  Passenger  31.0     N           N   \n",
       "1  438194352  26872544  16034312  84833902  Passenger  31.0     N           N   \n",
       "2  438194353  26872544  16034312  84938064     Driver   NaN     N           N   \n",
       "3  438194354  26872544  16034312  84790164     Driver  31.0     N           N   \n",
       "4  438194355  26872544  16034312  84953497  Passenger  47.0     N           N   \n",
       "\n",
       "  MINORINJURY VEHICLEID             INVEHICLETYPE TICKETISSUED  \\\n",
       "0           N   2275009  Passenger Car/automobile            N   \n",
       "1           N   2275009  Passenger Car/automobile            N   \n",
       "2           N   2275007  Passenger Car/automobile            N   \n",
       "3           N   2275009  Passenger Car/automobile            N   \n",
       "4           Y   2275008  Passenger Car/automobile            N   \n",
       "\n",
       "  LICENSEPLATESTATE IMPAIRED SPEEDING  \n",
       "0                VA        Y        N  \n",
       "1                VA        Y        N  \n",
       "2              None        N        N  \n",
       "3                VA        N        N  \n",
       "4                VA        Y        N  "
      ]
     },
     "execution_count": 7,
     "metadata": {},
     "output_type": "execute_result"
    }
   ],
   "source": [
    "data.head()"
   ]
  },
  {
   "cell_type": "code",
   "execution_count": 8,
   "metadata": {},
   "outputs": [
    {
     "data": {
      "text/plain": [
       "Index(['OBJECTID', 'CRIMEID', 'CCN', 'PERSONID', 'PERSONTYPE', 'AGE', 'FATAL',\n",
       "       'MAJORINJURY', 'MINORINJURY', 'VEHICLEID', 'INVEHICLETYPE',\n",
       "       'TICKETISSUED', 'LICENSEPLATESTATE', 'IMPAIRED', 'SPEEDING'],\n",
       "      dtype='object')"
      ]
     },
     "execution_count": 8,
     "metadata": {},
     "output_type": "execute_result"
    }
   ],
   "source": [
    "data.columns"
   ]
  },
  {
   "cell_type": "code",
   "execution_count": 9,
   "metadata": {},
   "outputs": [
    {
     "data": {
      "text/plain": [
       "OBJECTID               int64\n",
       "CRIMEID                int64\n",
       "CCN                   object\n",
       "PERSONID               int64\n",
       "PERSONTYPE            object\n",
       "AGE                  float64\n",
       "FATAL                 object\n",
       "MAJORINJURY           object\n",
       "MINORINJURY           object\n",
       "VEHICLEID             object\n",
       "INVEHICLETYPE         object\n",
       "TICKETISSUED          object\n",
       "LICENSEPLATESTATE     object\n",
       "IMPAIRED              object\n",
       "SPEEDING              object\n",
       "dtype: object"
      ]
     },
     "execution_count": 9,
     "metadata": {},
     "output_type": "execute_result"
    }
   ],
   "source": [
    "data.dtypes"
   ]
  },
  {
   "cell_type": "code",
   "execution_count": 10,
   "metadata": {},
   "outputs": [
    {
     "data": {
      "text/plain": [
       "array(['N', 'Y'], dtype=object)"
      ]
     },
     "execution_count": 10,
     "metadata": {},
     "output_type": "execute_result"
    }
   ],
   "source": [
    "data[\"FATAL\"].unique()"
   ]
  }
 ],
 "metadata": {
  "kernelspec": {
   "display_name": "Python 3",
   "language": "python",
   "name": "python3"
  },
  "language_info": {
   "codemirror_mode": {
    "name": "ipython",
    "version": 3
   },
   "file_extension": ".py",
   "mimetype": "text/x-python",
   "name": "python",
   "nbconvert_exporter": "python",
   "pygments_lexer": "ipython3",
   "version": "3.7.9"
  }
 },
 "nbformat": 4,
 "nbformat_minor": 4
}
