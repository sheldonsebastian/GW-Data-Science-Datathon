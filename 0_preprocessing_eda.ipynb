{
 "cells": [
  {
   "cell_type": "markdown",
   "metadata": {},
   "source": [
    "# FIRST ITERATION: REFINE CODE AND CLEANUP LATER"
   ]
  },
  {
   "cell_type": "code",
   "execution_count": 1,
   "metadata": {},
   "outputs": [],
   "source": [
    "# imports\n",
    "import pandas as pd\n",
    "import matplotlib.pyplot as plt\n",
    "from decimal import Decimal"
   ]
  },
  {
   "cell_type": "code",
   "execution_count": 2,
   "metadata": {},
   "outputs": [],
   "source": [
    "# pd.set_option(\"max_row\", None)"
   ]
  },
  {
   "cell_type": "code",
   "execution_count": 3,
   "metadata": {},
   "outputs": [],
   "source": [
    "# external imports\n",
    "%run common/utilities.ipynb"
   ]
  },
  {
   "cell_type": "markdown",
   "metadata": {},
   "source": [
    "# Read Data"
   ]
  },
  {
   "cell_type": "code",
   "execution_count": 4,
   "metadata": {},
   "outputs": [
    {
     "name": "stderr",
     "output_type": "stream",
     "text": [
      "C:\\ProgramData\\Anaconda3\\lib\\site-packages\\IPython\\core\\interactiveshell.py:3146: DtypeWarning: Columns (2) have mixed types.Specify dtype option on import or set low_memory=False.\n",
      "  interactivity=interactivity, compiler=compiler, result=result)\n"
     ]
    }
   ],
   "source": [
    "raw_original = pd.read_csv(\"./input_data/main.csv\")"
   ]
  },
  {
   "cell_type": "code",
   "execution_count": 5,
   "metadata": {},
   "outputs": [],
   "source": [
    "target = \"FATAL\""
   ]
  },
  {
   "cell_type": "code",
   "execution_count": 6,
   "metadata": {},
   "outputs": [
    {
     "data": {
      "text/plain": [
       "N    595964\n",
       "Y       417\n",
       "Name: FATAL, dtype: int64"
      ]
     },
     "execution_count": 6,
     "metadata": {},
     "output_type": "execute_result"
    }
   ],
   "source": [
    "raw_original[target].value_counts()"
   ]
  },
  {
   "cell_type": "code",
   "execution_count": 7,
   "metadata": {},
   "outputs": [
    {
     "data": {
      "text/plain": [
       "596381"
      ]
     },
     "execution_count": 7,
     "metadata": {},
     "output_type": "execute_result"
    }
   ],
   "source": [
    "len(raw_original)"
   ]
  },
  {
   "cell_type": "code",
   "execution_count": 8,
   "metadata": {},
   "outputs": [],
   "source": [
    "# make original data copy\n",
    "raw = raw_original.copy(deep=True)"
   ]
  },
  {
   "cell_type": "code",
   "execution_count": 9,
   "metadata": {},
   "outputs": [
    {
     "data": {
      "text/html": [
       "<div>\n",
       "<style scoped>\n",
       "    .dataframe tbody tr th:only-of-type {\n",
       "        vertical-align: middle;\n",
       "    }\n",
       "\n",
       "    .dataframe tbody tr th {\n",
       "        vertical-align: top;\n",
       "    }\n",
       "\n",
       "    .dataframe thead th {\n",
       "        text-align: right;\n",
       "    }\n",
       "</style>\n",
       "<table border=\"1\" class=\"dataframe\">\n",
       "  <thead>\n",
       "    <tr style=\"text-align: right;\">\n",
       "      <th></th>\n",
       "      <th>OBJECTID</th>\n",
       "      <th>CRIMEID</th>\n",
       "      <th>CCN</th>\n",
       "      <th>PERSONID</th>\n",
       "      <th>PERSONTYPE</th>\n",
       "      <th>AGE</th>\n",
       "      <th>FATAL</th>\n",
       "      <th>MAJORINJURY</th>\n",
       "      <th>MINORINJURY</th>\n",
       "      <th>VEHICLEID</th>\n",
       "      <th>INVEHICLETYPE</th>\n",
       "      <th>TICKETISSUED</th>\n",
       "      <th>LICENSEPLATESTATE</th>\n",
       "      <th>IMPAIRED</th>\n",
       "      <th>SPEEDING</th>\n",
       "    </tr>\n",
       "  </thead>\n",
       "  <tbody>\n",
       "    <tr>\n",
       "      <th>0</th>\n",
       "      <td>438194351</td>\n",
       "      <td>26872544</td>\n",
       "      <td>16034312</td>\n",
       "      <td>84628234</td>\n",
       "      <td>Passenger</td>\n",
       "      <td>31.0</td>\n",
       "      <td>N</td>\n",
       "      <td>N</td>\n",
       "      <td>N</td>\n",
       "      <td>2275009</td>\n",
       "      <td>Passenger Car/automobile</td>\n",
       "      <td>N</td>\n",
       "      <td>VA</td>\n",
       "      <td>Y</td>\n",
       "      <td>N</td>\n",
       "    </tr>\n",
       "    <tr>\n",
       "      <th>1</th>\n",
       "      <td>438194352</td>\n",
       "      <td>26872544</td>\n",
       "      <td>16034312</td>\n",
       "      <td>84833902</td>\n",
       "      <td>Passenger</td>\n",
       "      <td>31.0</td>\n",
       "      <td>N</td>\n",
       "      <td>N</td>\n",
       "      <td>N</td>\n",
       "      <td>2275009</td>\n",
       "      <td>Passenger Car/automobile</td>\n",
       "      <td>N</td>\n",
       "      <td>VA</td>\n",
       "      <td>Y</td>\n",
       "      <td>N</td>\n",
       "    </tr>\n",
       "    <tr>\n",
       "      <th>2</th>\n",
       "      <td>438194353</td>\n",
       "      <td>26872544</td>\n",
       "      <td>16034312</td>\n",
       "      <td>84938064</td>\n",
       "      <td>Driver</td>\n",
       "      <td>NaN</td>\n",
       "      <td>N</td>\n",
       "      <td>N</td>\n",
       "      <td>N</td>\n",
       "      <td>2275007</td>\n",
       "      <td>Passenger Car/automobile</td>\n",
       "      <td>N</td>\n",
       "      <td>None</td>\n",
       "      <td>N</td>\n",
       "      <td>N</td>\n",
       "    </tr>\n",
       "    <tr>\n",
       "      <th>3</th>\n",
       "      <td>438194354</td>\n",
       "      <td>26872544</td>\n",
       "      <td>16034312</td>\n",
       "      <td>84790164</td>\n",
       "      <td>Driver</td>\n",
       "      <td>31.0</td>\n",
       "      <td>N</td>\n",
       "      <td>N</td>\n",
       "      <td>N</td>\n",
       "      <td>2275009</td>\n",
       "      <td>Passenger Car/automobile</td>\n",
       "      <td>N</td>\n",
       "      <td>VA</td>\n",
       "      <td>N</td>\n",
       "      <td>N</td>\n",
       "    </tr>\n",
       "    <tr>\n",
       "      <th>4</th>\n",
       "      <td>438194355</td>\n",
       "      <td>26872544</td>\n",
       "      <td>16034312</td>\n",
       "      <td>84953497</td>\n",
       "      <td>Passenger</td>\n",
       "      <td>47.0</td>\n",
       "      <td>N</td>\n",
       "      <td>N</td>\n",
       "      <td>Y</td>\n",
       "      <td>2275008</td>\n",
       "      <td>Passenger Car/automobile</td>\n",
       "      <td>N</td>\n",
       "      <td>VA</td>\n",
       "      <td>Y</td>\n",
       "      <td>N</td>\n",
       "    </tr>\n",
       "  </tbody>\n",
       "</table>\n",
       "</div>"
      ],
      "text/plain": [
       "    OBJECTID   CRIMEID       CCN  PERSONID PERSONTYPE   AGE FATAL MAJORINJURY  \\\n",
       "0  438194351  26872544  16034312  84628234  Passenger  31.0     N           N   \n",
       "1  438194352  26872544  16034312  84833902  Passenger  31.0     N           N   \n",
       "2  438194353  26872544  16034312  84938064     Driver   NaN     N           N   \n",
       "3  438194354  26872544  16034312  84790164     Driver  31.0     N           N   \n",
       "4  438194355  26872544  16034312  84953497  Passenger  47.0     N           N   \n",
       "\n",
       "  MINORINJURY VEHICLEID             INVEHICLETYPE TICKETISSUED  \\\n",
       "0           N   2275009  Passenger Car/automobile            N   \n",
       "1           N   2275009  Passenger Car/automobile            N   \n",
       "2           N   2275007  Passenger Car/automobile            N   \n",
       "3           N   2275009  Passenger Car/automobile            N   \n",
       "4           Y   2275008  Passenger Car/automobile            N   \n",
       "\n",
       "  LICENSEPLATESTATE IMPAIRED SPEEDING  \n",
       "0                VA        Y        N  \n",
       "1                VA        Y        N  \n",
       "2              None        N        N  \n",
       "3                VA        N        N  \n",
       "4                VA        Y        N  "
      ]
     },
     "execution_count": 9,
     "metadata": {},
     "output_type": "execute_result"
    }
   ],
   "source": [
    "raw.head()"
   ]
  },
  {
   "cell_type": "markdown",
   "metadata": {},
   "source": [
    "# Drop Identifiers"
   ]
  },
  {
   "cell_type": "code",
   "execution_count": 10,
   "metadata": {},
   "outputs": [],
   "source": [
    "df_id = find_unique_identifiers(raw)"
   ]
  },
  {
   "cell_type": "code",
   "execution_count": 11,
   "metadata": {},
   "outputs": [
    {
     "data": {
      "text/html": [
       "<div>\n",
       "<style scoped>\n",
       "    .dataframe tbody tr th:only-of-type {\n",
       "        vertical-align: middle;\n",
       "    }\n",
       "\n",
       "    .dataframe tbody tr th {\n",
       "        vertical-align: top;\n",
       "    }\n",
       "\n",
       "    .dataframe thead th {\n",
       "        text-align: right;\n",
       "    }\n",
       "</style>\n",
       "<table border=\"1\" class=\"dataframe\">\n",
       "  <thead>\n",
       "    <tr style=\"text-align: right;\">\n",
       "      <th></th>\n",
       "      <th>OBJECTID</th>\n",
       "    </tr>\n",
       "  </thead>\n",
       "  <tbody>\n",
       "    <tr>\n",
       "      <th>0</th>\n",
       "      <td>438194351</td>\n",
       "    </tr>\n",
       "    <tr>\n",
       "      <th>1</th>\n",
       "      <td>438194352</td>\n",
       "    </tr>\n",
       "    <tr>\n",
       "      <th>2</th>\n",
       "      <td>438194353</td>\n",
       "    </tr>\n",
       "    <tr>\n",
       "      <th>3</th>\n",
       "      <td>438194354</td>\n",
       "    </tr>\n",
       "    <tr>\n",
       "      <th>4</th>\n",
       "      <td>438194355</td>\n",
       "    </tr>\n",
       "    <tr>\n",
       "      <th>...</th>\n",
       "      <td>...</td>\n",
       "    </tr>\n",
       "    <tr>\n",
       "      <th>596376</th>\n",
       "      <td>438790615</td>\n",
       "    </tr>\n",
       "    <tr>\n",
       "      <th>596377</th>\n",
       "      <td>438790616</td>\n",
       "    </tr>\n",
       "    <tr>\n",
       "      <th>596378</th>\n",
       "      <td>438790617</td>\n",
       "    </tr>\n",
       "    <tr>\n",
       "      <th>596379</th>\n",
       "      <td>438790618</td>\n",
       "    </tr>\n",
       "    <tr>\n",
       "      <th>596380</th>\n",
       "      <td>438790619</td>\n",
       "    </tr>\n",
       "  </tbody>\n",
       "</table>\n",
       "<p>596381 rows × 1 columns</p>\n",
       "</div>"
      ],
      "text/plain": [
       "         OBJECTID\n",
       "0       438194351\n",
       "1       438194352\n",
       "2       438194353\n",
       "3       438194354\n",
       "4       438194355\n",
       "...           ...\n",
       "596376  438790615\n",
       "596377  438790616\n",
       "596378  438790617\n",
       "596379  438790618\n",
       "596380  438790619\n",
       "\n",
       "[596381 rows x 1 columns]"
      ]
     },
     "execution_count": 11,
     "metadata": {},
     "output_type": "execute_result"
    }
   ],
   "source": [
    "df_id"
   ]
  },
  {
   "cell_type": "markdown",
   "metadata": {},
   "source": [
    "object_id is unique identifier. Drop it"
   ]
  },
  {
   "cell_type": "code",
   "execution_count": 12,
   "metadata": {},
   "outputs": [],
   "source": [
    "raw = drop_unique_identifiers(raw, df_id)"
   ]
  },
  {
   "cell_type": "code",
   "execution_count": 13,
   "metadata": {},
   "outputs": [
    {
     "data": {
      "text/html": [
       "<div>\n",
       "<style scoped>\n",
       "    .dataframe tbody tr th:only-of-type {\n",
       "        vertical-align: middle;\n",
       "    }\n",
       "\n",
       "    .dataframe tbody tr th {\n",
       "        vertical-align: top;\n",
       "    }\n",
       "\n",
       "    .dataframe thead th {\n",
       "        text-align: right;\n",
       "    }\n",
       "</style>\n",
       "<table border=\"1\" class=\"dataframe\">\n",
       "  <thead>\n",
       "    <tr style=\"text-align: right;\">\n",
       "      <th></th>\n",
       "      <th>CRIMEID</th>\n",
       "      <th>CCN</th>\n",
       "      <th>PERSONID</th>\n",
       "      <th>PERSONTYPE</th>\n",
       "      <th>AGE</th>\n",
       "      <th>FATAL</th>\n",
       "      <th>MAJORINJURY</th>\n",
       "      <th>MINORINJURY</th>\n",
       "      <th>VEHICLEID</th>\n",
       "      <th>INVEHICLETYPE</th>\n",
       "      <th>TICKETISSUED</th>\n",
       "      <th>LICENSEPLATESTATE</th>\n",
       "      <th>IMPAIRED</th>\n",
       "      <th>SPEEDING</th>\n",
       "    </tr>\n",
       "  </thead>\n",
       "  <tbody>\n",
       "    <tr>\n",
       "      <th>0</th>\n",
       "      <td>26872544</td>\n",
       "      <td>16034312</td>\n",
       "      <td>84628234</td>\n",
       "      <td>Passenger</td>\n",
       "      <td>31.0</td>\n",
       "      <td>N</td>\n",
       "      <td>N</td>\n",
       "      <td>N</td>\n",
       "      <td>2275009</td>\n",
       "      <td>Passenger Car/automobile</td>\n",
       "      <td>N</td>\n",
       "      <td>VA</td>\n",
       "      <td>Y</td>\n",
       "      <td>N</td>\n",
       "    </tr>\n",
       "    <tr>\n",
       "      <th>1</th>\n",
       "      <td>26872544</td>\n",
       "      <td>16034312</td>\n",
       "      <td>84833902</td>\n",
       "      <td>Passenger</td>\n",
       "      <td>31.0</td>\n",
       "      <td>N</td>\n",
       "      <td>N</td>\n",
       "      <td>N</td>\n",
       "      <td>2275009</td>\n",
       "      <td>Passenger Car/automobile</td>\n",
       "      <td>N</td>\n",
       "      <td>VA</td>\n",
       "      <td>Y</td>\n",
       "      <td>N</td>\n",
       "    </tr>\n",
       "    <tr>\n",
       "      <th>2</th>\n",
       "      <td>26872544</td>\n",
       "      <td>16034312</td>\n",
       "      <td>84938064</td>\n",
       "      <td>Driver</td>\n",
       "      <td>NaN</td>\n",
       "      <td>N</td>\n",
       "      <td>N</td>\n",
       "      <td>N</td>\n",
       "      <td>2275007</td>\n",
       "      <td>Passenger Car/automobile</td>\n",
       "      <td>N</td>\n",
       "      <td>None</td>\n",
       "      <td>N</td>\n",
       "      <td>N</td>\n",
       "    </tr>\n",
       "    <tr>\n",
       "      <th>3</th>\n",
       "      <td>26872544</td>\n",
       "      <td>16034312</td>\n",
       "      <td>84790164</td>\n",
       "      <td>Driver</td>\n",
       "      <td>31.0</td>\n",
       "      <td>N</td>\n",
       "      <td>N</td>\n",
       "      <td>N</td>\n",
       "      <td>2275009</td>\n",
       "      <td>Passenger Car/automobile</td>\n",
       "      <td>N</td>\n",
       "      <td>VA</td>\n",
       "      <td>N</td>\n",
       "      <td>N</td>\n",
       "    </tr>\n",
       "    <tr>\n",
       "      <th>4</th>\n",
       "      <td>26872544</td>\n",
       "      <td>16034312</td>\n",
       "      <td>84953497</td>\n",
       "      <td>Passenger</td>\n",
       "      <td>47.0</td>\n",
       "      <td>N</td>\n",
       "      <td>N</td>\n",
       "      <td>Y</td>\n",
       "      <td>2275008</td>\n",
       "      <td>Passenger Car/automobile</td>\n",
       "      <td>N</td>\n",
       "      <td>VA</td>\n",
       "      <td>Y</td>\n",
       "      <td>N</td>\n",
       "    </tr>\n",
       "  </tbody>\n",
       "</table>\n",
       "</div>"
      ],
      "text/plain": [
       "    CRIMEID       CCN  PERSONID PERSONTYPE   AGE FATAL MAJORINJURY  \\\n",
       "0  26872544  16034312  84628234  Passenger  31.0     N           N   \n",
       "1  26872544  16034312  84833902  Passenger  31.0     N           N   \n",
       "2  26872544  16034312  84938064     Driver   NaN     N           N   \n",
       "3  26872544  16034312  84790164     Driver  31.0     N           N   \n",
       "4  26872544  16034312  84953497  Passenger  47.0     N           N   \n",
       "\n",
       "  MINORINJURY VEHICLEID             INVEHICLETYPE TICKETISSUED  \\\n",
       "0           N   2275009  Passenger Car/automobile            N   \n",
       "1           N   2275009  Passenger Car/automobile            N   \n",
       "2           N   2275007  Passenger Car/automobile            N   \n",
       "3           N   2275009  Passenger Car/automobile            N   \n",
       "4           Y   2275008  Passenger Car/automobile            N   \n",
       "\n",
       "  LICENSEPLATESTATE IMPAIRED SPEEDING  \n",
       "0                VA        Y        N  \n",
       "1                VA        Y        N  \n",
       "2              None        N        N  \n",
       "3                VA        N        N  \n",
       "4                VA        Y        N  "
      ]
     },
     "execution_count": 13,
     "metadata": {},
     "output_type": "execute_result"
    }
   ],
   "source": [
    "raw.head()"
   ]
  },
  {
   "cell_type": "markdown",
   "metadata": {},
   "source": [
    "# Drop irrelevant columns\n",
    "\n",
    "- CRIMEID is foreign key for other dataset\n",
    "- CCN is used to find location data based on parking meter coordinates\n",
    "- PERSONID is unique identifier (only 10 ids are repeating, rest are unique)\n",
    "- VEHICLEID is identifier\n",
    "\n",
    "Drop these irrelevant columns"
   ]
  },
  {
   "cell_type": "code",
   "execution_count": 14,
   "metadata": {
    "scrolled": true
   },
   "outputs": [
    {
     "data": {
      "text/plain": [
       "25201155    66\n",
       "27250936    65\n",
       "26644966    59\n",
       "27115668    56\n",
       "23944204    54\n",
       "            ..\n",
       "26588602     1\n",
       "26827526     1\n",
       "27997092     1\n",
       "27197478     1\n",
       "28123904     1\n",
       "Name: CRIMEID, Length: 244624, dtype: int64"
      ]
     },
     "execution_count": 14,
     "metadata": {},
     "output_type": "execute_result"
    }
   ],
   "source": [
    "raw[\"CRIMEID\"].value_counts()"
   ]
  },
  {
   "cell_type": "code",
   "execution_count": 15,
   "metadata": {
    "scrolled": true
   },
   "outputs": [
    {
     "data": {
      "text/plain": [
       "14195200    66\n",
       "17044398    65\n",
       "10148861    59\n",
       "16188154    56\n",
       "12043692    54\n",
       "            ..\n",
       "20028982     1\n",
       "17016262     1\n",
       "20148125     1\n",
       "20071502     1\n",
       "16019739     1\n",
       "Name: CCN, Length: 244669, dtype: int64"
      ]
     },
     "execution_count": 15,
     "metadata": {},
     "output_type": "execute_result"
    }
   ],
   "source": [
    "raw[\"CCN\"].value_counts()"
   ]
  },
  {
   "cell_type": "code",
   "execution_count": 16,
   "metadata": {
    "scrolled": true
   },
   "outputs": [
    {
     "data": {
      "text/plain": [
       "89467466    2\n",
       "89764243    2\n",
       "89514186    2\n",
       "89993044    2\n",
       "90219441    2\n",
       "90643975    2\n",
       "90135860    2\n",
       "89459376    2\n",
       "89550113    2\n",
       "90602111    2\n",
       "84918897    1\n",
       "84663761    1\n",
       "84671957    1\n",
       "84880898    1\n",
       "84657618    1\n",
       "84618703    1\n",
       "84661712    1\n",
       "84616654    1\n",
       "84622797    1\n",
       "84620748    1\n",
       "Name: PERSONID, dtype: int64"
      ]
     },
     "execution_count": 16,
     "metadata": {},
     "output_type": "execute_result"
    }
   ],
   "source": [
    "raw[\"PERSONID\"].value_counts()[:20]"
   ]
  },
  {
   "cell_type": "code",
   "execution_count": 17,
   "metadata": {
    "scrolled": true
   },
   "outputs": [
    {
     "data": {
      "text/plain": [
       "None       17470\n",
       "1012204       59\n",
       "884780        57\n",
       "2761084       55\n",
       "908411        53\n",
       "           ...  \n",
       "874917         1\n",
       "4573341        1\n",
       "5159356        1\n",
       "5679282        1\n",
       "5091277        1\n",
       "Name: VEHICLEID, Length: 456075, dtype: int64"
      ]
     },
     "execution_count": 17,
     "metadata": {},
     "output_type": "execute_result"
    }
   ],
   "source": [
    "raw[\"VEHICLEID\"].value_counts()"
   ]
  },
  {
   "cell_type": "code",
   "execution_count": 18,
   "metadata": {},
   "outputs": [],
   "source": [
    "# https://www.geeksforgeeks.org/how-to-drop-one-or-multiple-columns-in-pandas-dataframe/\n",
    "raw = raw.drop([\"CRIMEID\", \"CCN\", \"PERSONID\", \"VEHICLEID\"], axis=1)"
   ]
  },
  {
   "cell_type": "code",
   "execution_count": 19,
   "metadata": {},
   "outputs": [
    {
     "data": {
      "text/html": [
       "<div>\n",
       "<style scoped>\n",
       "    .dataframe tbody tr th:only-of-type {\n",
       "        vertical-align: middle;\n",
       "    }\n",
       "\n",
       "    .dataframe tbody tr th {\n",
       "        vertical-align: top;\n",
       "    }\n",
       "\n",
       "    .dataframe thead th {\n",
       "        text-align: right;\n",
       "    }\n",
       "</style>\n",
       "<table border=\"1\" class=\"dataframe\">\n",
       "  <thead>\n",
       "    <tr style=\"text-align: right;\">\n",
       "      <th></th>\n",
       "      <th>PERSONTYPE</th>\n",
       "      <th>AGE</th>\n",
       "      <th>FATAL</th>\n",
       "      <th>MAJORINJURY</th>\n",
       "      <th>MINORINJURY</th>\n",
       "      <th>INVEHICLETYPE</th>\n",
       "      <th>TICKETISSUED</th>\n",
       "      <th>LICENSEPLATESTATE</th>\n",
       "      <th>IMPAIRED</th>\n",
       "      <th>SPEEDING</th>\n",
       "    </tr>\n",
       "  </thead>\n",
       "  <tbody>\n",
       "    <tr>\n",
       "      <th>0</th>\n",
       "      <td>Passenger</td>\n",
       "      <td>31.0</td>\n",
       "      <td>N</td>\n",
       "      <td>N</td>\n",
       "      <td>N</td>\n",
       "      <td>Passenger Car/automobile</td>\n",
       "      <td>N</td>\n",
       "      <td>VA</td>\n",
       "      <td>Y</td>\n",
       "      <td>N</td>\n",
       "    </tr>\n",
       "    <tr>\n",
       "      <th>1</th>\n",
       "      <td>Passenger</td>\n",
       "      <td>31.0</td>\n",
       "      <td>N</td>\n",
       "      <td>N</td>\n",
       "      <td>N</td>\n",
       "      <td>Passenger Car/automobile</td>\n",
       "      <td>N</td>\n",
       "      <td>VA</td>\n",
       "      <td>Y</td>\n",
       "      <td>N</td>\n",
       "    </tr>\n",
       "    <tr>\n",
       "      <th>2</th>\n",
       "      <td>Driver</td>\n",
       "      <td>NaN</td>\n",
       "      <td>N</td>\n",
       "      <td>N</td>\n",
       "      <td>N</td>\n",
       "      <td>Passenger Car/automobile</td>\n",
       "      <td>N</td>\n",
       "      <td>None</td>\n",
       "      <td>N</td>\n",
       "      <td>N</td>\n",
       "    </tr>\n",
       "    <tr>\n",
       "      <th>3</th>\n",
       "      <td>Driver</td>\n",
       "      <td>31.0</td>\n",
       "      <td>N</td>\n",
       "      <td>N</td>\n",
       "      <td>N</td>\n",
       "      <td>Passenger Car/automobile</td>\n",
       "      <td>N</td>\n",
       "      <td>VA</td>\n",
       "      <td>N</td>\n",
       "      <td>N</td>\n",
       "    </tr>\n",
       "    <tr>\n",
       "      <th>4</th>\n",
       "      <td>Passenger</td>\n",
       "      <td>47.0</td>\n",
       "      <td>N</td>\n",
       "      <td>N</td>\n",
       "      <td>Y</td>\n",
       "      <td>Passenger Car/automobile</td>\n",
       "      <td>N</td>\n",
       "      <td>VA</td>\n",
       "      <td>Y</td>\n",
       "      <td>N</td>\n",
       "    </tr>\n",
       "  </tbody>\n",
       "</table>\n",
       "</div>"
      ],
      "text/plain": [
       "  PERSONTYPE   AGE FATAL MAJORINJURY MINORINJURY             INVEHICLETYPE  \\\n",
       "0  Passenger  31.0     N           N           N  Passenger Car/automobile   \n",
       "1  Passenger  31.0     N           N           N  Passenger Car/automobile   \n",
       "2     Driver   NaN     N           N           N  Passenger Car/automobile   \n",
       "3     Driver  31.0     N           N           N  Passenger Car/automobile   \n",
       "4  Passenger  47.0     N           N           Y  Passenger Car/automobile   \n",
       "\n",
       "  TICKETISSUED LICENSEPLATESTATE IMPAIRED SPEEDING  \n",
       "0            N                VA        Y        N  \n",
       "1            N                VA        Y        N  \n",
       "2            N              None        N        N  \n",
       "3            N                VA        N        N  \n",
       "4            N                VA        Y        N  "
      ]
     },
     "execution_count": 19,
     "metadata": {},
     "output_type": "execute_result"
    }
   ],
   "source": [
    "raw.head()"
   ]
  },
  {
   "cell_type": "code",
   "execution_count": 20,
   "metadata": {},
   "outputs": [
    {
     "data": {
      "text/html": [
       "<div>\n",
       "<style scoped>\n",
       "    .dataframe tbody tr th:only-of-type {\n",
       "        vertical-align: middle;\n",
       "    }\n",
       "\n",
       "    .dataframe tbody tr th {\n",
       "        vertical-align: top;\n",
       "    }\n",
       "\n",
       "    .dataframe thead th {\n",
       "        text-align: right;\n",
       "    }\n",
       "</style>\n",
       "<table border=\"1\" class=\"dataframe\">\n",
       "  <thead>\n",
       "    <tr style=\"text-align: right;\">\n",
       "      <th></th>\n",
       "      <th>var</th>\n",
       "      <th>proportion</th>\n",
       "      <th>dtype</th>\n",
       "    </tr>\n",
       "  </thead>\n",
       "  <tbody>\n",
       "    <tr>\n",
       "      <th>0</th>\n",
       "      <td>AGE</td>\n",
       "      <td>0.284444</td>\n",
       "      <td>float64</td>\n",
       "    </tr>\n",
       "  </tbody>\n",
       "</table>\n",
       "</div>"
      ],
      "text/plain": [
       "   var  proportion    dtype\n",
       "0  AGE    0.284444  float64"
      ]
     },
     "execution_count": 20,
     "metadata": {},
     "output_type": "execute_result"
    }
   ],
   "source": [
    "nan_checker(raw)"
   ]
  },
  {
   "cell_type": "markdown",
   "metadata": {},
   "source": [
    "# Consolidate column values \n",
    "\n",
    "Many column values have too many levels, thus consolidating these values."
   ]
  },
  {
   "cell_type": "code",
   "execution_count": 21,
   "metadata": {},
   "outputs": [
    {
     "data": {
      "text/plain": [
       "Index(['PERSONTYPE', 'AGE', 'FATAL', 'MAJORINJURY', 'MINORINJURY',\n",
       "       'INVEHICLETYPE', 'TICKETISSUED', 'LICENSEPLATESTATE', 'IMPAIRED',\n",
       "       'SPEEDING'],\n",
       "      dtype='object')"
      ]
     },
     "execution_count": 21,
     "metadata": {},
     "output_type": "execute_result"
    }
   ],
   "source": [
    "raw.columns"
   ]
  },
  {
   "cell_type": "code",
   "execution_count": 22,
   "metadata": {},
   "outputs": [
    {
     "name": "stdout",
     "output_type": "stream",
     "text": [
      "PERSONTYPE\n",
      "['Passenger' 'Driver' 'Pedestrian' 'Bicyclist']\n",
      "\n",
      "AGE\n",
      "[ 3.10e+01       nan  4.70e+01  6.30e+01  4.20e+01  2.30e+01  2.50e+01\n",
      "  2.80e+01  6.80e+01  3.30e+01  3.50e+01  3.00e+01  3.60e+01  4.00e+01\n",
      "  3.80e+01  5.70e+01  7.00e+00  5.20e+01  5.40e+01  2.60e+01  4.40e+01\n",
      "  7.50e+01  6.00e+01  6.20e+01  3.20e+01  0.00e+00  5.10e+01  7.00e+01\n",
      "  2.10e+01  2.90e+01  2.70e+01  4.90e+01  4.30e+01  4.80e+01  3.90e+01\n",
      "  3.70e+01  2.40e+01  2.00e+01  5.50e+01  5.60e+01  4.50e+01  4.10e+01\n",
      "  4.60e+01  8.20e+01  4.00e+00  8.00e+01  6.10e+01  5.90e+01  2.19e+02\n",
      "  2.20e+01  5.00e+01  3.40e+01  5.30e+01  7.30e+01  8.30e+01  6.60e+01\n",
      "  1.60e+01  1.90e+01  7.60e+01  5.80e+01  8.10e+01  6.90e+01  7.80e+01\n",
      "  1.00e+00  1.10e+01  1.80e+01  6.70e+01  6.40e+01  6.50e+01  7.10e+01\n",
      "  1.30e+01  7.20e+01  5.00e+00  7.40e+01  1.70e+01  6.00e+00  8.00e+00\n",
      "  7.70e+01  1.19e+02  1.50e+01  1.00e+01  9.00e+00  3.00e+00  8.50e+01\n",
      "  2.00e+00  1.20e+01  9.10e+01  7.90e+01  1.40e+01  9.30e+01  8.40e+01\n",
      "  8.70e+01  8.60e+01  8.80e+01  9.00e+01  8.90e+01  9.40e+01  9.50e+01\n",
      "  1.00e+02  1.37e+02  9.80e+01  9.60e+01  1.13e+02  1.01e+02  1.10e+02\n",
      "  1.09e+02  1.08e+02  9.70e+01  1.03e+02  1.04e+02  1.20e+02  9.20e+01\n",
      "  9.90e+01  1.18e+02  1.38e+02  1.17e+02  1.05e+02  1.16e+02 -1.00e+00\n",
      "  1.24e+02  1.02e+02 -3.00e+00 -2.00e+00 -4.00e+00  1.15e+02  1.14e+02\n",
      "  1.21e+02  1.11e+02  1.26e+02 -3.60e+01 -1.83e+02 -6.70e+01 -1.80e+01\n",
      " -3.40e+01 -3.50e+01 -3.70e+01 -3.80e+01 -2.70e+01  1.56e+02 -8.00e+00\n",
      " -5.00e+00  1.66e+02 -9.60e+01  2.14e+02 -1.81e+02  1.32e+02  2.17e+02\n",
      " -2.50e+01 -2.20e+01 -3.30e+01  1.45e+02 -6.00e+00 -5.50e+01 -5.10e+01\n",
      " -7.99e+03  2.07e+02  1.12e+02  1.07e+02 -5.80e+01 -7.00e+01 -4.90e+01\n",
      " -8.00e+01 -2.40e+01 -1.30e+01  1.36e+02 -4.70e+01  1.06e+02  1.57e+02\n",
      "  1.41e+02 -9.00e+00  2.37e+02 -9.64e+02]\n",
      "\n",
      "FATAL\n",
      "['N' 'Y']\n",
      "\n",
      "MAJORINJURY\n",
      "['N' 'Y']\n",
      "\n",
      "MINORINJURY\n",
      "['N' 'Y']\n",
      "\n",
      "INVEHICLETYPE\n",
      "['Passenger Car/automobile' 'Other Vehicle' 'Suv (sport Utility Vehicle)'\n",
      " 'Large/heavy Truck' 'Cargo Van' 'None' 'Passenger Van' 'Firearms'\n",
      " 'Atv (all Terrain Vehicle)' 'Other Small/light Truck' 'Bus' 'Motor Cycle'\n",
      " 'Moped/scooter' 'Pickup Truck' 'Drugs/ Narcotics'\n",
      " 'Construction/industrial Equipment'\n",
      " 'Motorhome/camper/rv (recreational Vehicle)' 'Trailer' 'Farm Equipment'\n",
      " 'Watercraft/boat' 'Snow Mobile' 'Aircraft']\n",
      "\n",
      "TICKETISSUED\n",
      "['N' 'Y']\n",
      "\n",
      "LICENSEPLATESTATE\n",
      "['VA' ' None' 'NY' 'DC' 'MD' 'IN' 'Un' 'IL' 'WV' 'OH' 'NC' 'MO' 'US' 'PA'\n",
      " 'UT' 'NJ' 'CT' 'AZ' 'CA' 'Ot' 'TX' 'LA' 'SC' 'Di' 'FL' 'TN' 'KY' 'AL'\n",
      " 'MA' 'GA' 'DE' 'OK' 'MN' 'MI' 'CO' 'VT' 'AR' 'ME' 'NH' 'ID' 'KS' 'OR'\n",
      " 'RI' 'MS' 'Ou' 'WA' 'ND' 'WI' 'AK' 'NM' 'Vi' 'IA' 'NE' 'NV' 'WY' 'SD'\n",
      " 'MT' 'HI' 'Am' 'Pu']\n",
      "\n",
      "IMPAIRED\n",
      "['Y' 'N']\n",
      "\n",
      "SPEEDING\n",
      "['N' 'Y']\n",
      "\n"
     ]
    }
   ],
   "source": [
    "for col in raw.columns:\n",
    "    print(col)\n",
    "    print(raw[col].unique())\n",
    "    print()"
   ]
  },
  {
   "cell_type": "markdown",
   "metadata": {},
   "source": [
    "### Consolidation strategy"
   ]
  },
  {
   "cell_type": "markdown",
   "metadata": {},
   "source": [
    "Consolidate and retain all NaN's they will be handled in next step:\n",
    "\n",
    "INVEHICLETYPE:\n",
    "- {\n",
    " 'Passenger Car/automobile': \"Passenger Car\",\n",
    " 'Other Vehicle': \"Other Vehicle\",\n",
    " 'None': np.NaN,\n",
    " 'Passenger Van': \"Passenger Car\",\n",
    " 'Firearms': \"Other Vehicle\",\n",
    " 'Atv (all Terrain Vehicle)': \"Other Vehicle\",\n",
    " 'Motor Cycle': \"2 wheeler\",\n",
    " 'Moped/scooter': \"2 wheeler\",\n",
    " 'Drugs/ Narcotics': \"Other Vehicle\",\n",
    " 'Construction/industrial Equipment': \"Other Vehicle\",\n",
    " 'Motorhome/camper/rv (recreational Vehicle)': \"Other Vehicle\",\n",
    " 'Trailer': \"Other Vehicle\",\n",
    " 'Farm Equipment': \"Other Vehicle\",\n",
    " 'Watercraft/boat': \"Other Vehicle\",\n",
    " 'Snow Mobile': \"Other Vehicle\",\n",
    " 'Aircraft': \"Other Vehicle\"\n",
    "}\n",
    "\n",
    "    \n",
    "LICENSEPLATESTATE:\n",
    "\n",
    "- 50 States\n",
    "    \n",
    "AGE: (exclude lower limit and include upper limit)\n",
    "\n",
    "- \"0-17\", \"18-20\", \"21-30\", \"31-40\", \"41-50\", \"51-60\", \"61-70\", \"71-80\", \"81-90\""
   ]
  },
  {
   "cell_type": "markdown",
   "metadata": {},
   "source": [
    "**INVEHICLETYPE**"
   ]
  },
  {
   "cell_type": "code",
   "execution_count": 23,
   "metadata": {},
   "outputs": [
    {
     "data": {
      "text/plain": [
       "596381"
      ]
     },
     "execution_count": 23,
     "metadata": {},
     "output_type": "execute_result"
    }
   ],
   "source": [
    "len(raw[\"INVEHICLETYPE\"].isna())"
   ]
  },
  {
   "cell_type": "code",
   "execution_count": 24,
   "metadata": {},
   "outputs": [
    {
     "data": {
      "text/plain": [
       "Passenger Car/automobile                      401933\n",
       "Other Vehicle                                  50871\n",
       "Suv (sport Utility Vehicle)                    34122\n",
       "Passenger Van                                  19297\n",
       "None                                           17544\n",
       "Bus                                            16900\n",
       "Firearms                                       14225\n",
       "Pickup Truck                                   12418\n",
       "Large/heavy Truck                              10231\n",
       "Cargo Van                                       5015\n",
       "Drugs/ Narcotics                                4054\n",
       "Other Small/light Truck                         3574\n",
       "Motor Cycle                                     2791\n",
       "Moped/scooter                                   1371\n",
       "Construction/industrial Equipment                767\n",
       "Motorhome/camper/rv (recreational Vehicle)       475\n",
       "Trailer                                          427\n",
       "Farm Equipment                                   181\n",
       "Atv (all Terrain Vehicle)                        170\n",
       "Watercraft/boat                                    8\n",
       "Snow Mobile                                        4\n",
       "Aircraft                                           3\n",
       "Name: INVEHICLETYPE, dtype: int64"
      ]
     },
     "execution_count": 24,
     "metadata": {},
     "output_type": "execute_result"
    }
   ],
   "source": [
    "raw[\"INVEHICLETYPE\"].value_counts()"
   ]
  },
  {
   "cell_type": "code",
   "execution_count": 25,
   "metadata": {},
   "outputs": [],
   "source": [
    "raw[\"INVEHICLETYPE\"].replace({\n",
    " 'Passenger Car/automobile': \"Passenger Car\",\n",
    " 'Other Vehicle': \"Other Vehicle\",\n",
    " 'None': np.NaN,\n",
    " 'Passenger Van': \"Passenger Car\",\n",
    " 'Firearms': \"Other Vehicle\",\n",
    " 'Atv (all Terrain Vehicle)': \"Other Vehicle\",\n",
    " 'Motor Cycle': \"2 wheeler\",\n",
    " 'Moped/scooter': \"2 wheeler\",\n",
    " 'Drugs/ Narcotics': \"Other Vehicle\",\n",
    " 'Construction/industrial Equipment': \"Other Vehicle\",\n",
    " 'Motorhome/camper/rv (recreational Vehicle)': \"Other Vehicle\",\n",
    " 'Trailer': \"Other Vehicle\",\n",
    " 'Farm Equipment': \"Other Vehicle\",\n",
    " 'Watercraft/boat': \"Other Vehicle\",\n",
    " 'Snow Mobile': \"Other Vehicle\",\n",
    " 'Aircraft': \"Other Vehicle\"\n",
    "}, inplace=True)"
   ]
  },
  {
   "cell_type": "code",
   "execution_count": 26,
   "metadata": {},
   "outputs": [
    {
     "data": {
      "text/plain": [
       "Passenger Car                  421230\n",
       "Other Vehicle                   71185\n",
       "Suv (sport Utility Vehicle)     34122\n",
       "Bus                             16900\n",
       "Pickup Truck                    12418\n",
       "Large/heavy Truck               10231\n",
       "Cargo Van                        5015\n",
       "2 wheeler                        4162\n",
       "Other Small/light Truck          3574\n",
       "Name: INVEHICLETYPE, dtype: int64"
      ]
     },
     "execution_count": 26,
     "metadata": {},
     "output_type": "execute_result"
    }
   ],
   "source": [
    "raw[\"INVEHICLETYPE\"].value_counts()"
   ]
  },
  {
   "cell_type": "code",
   "execution_count": 27,
   "metadata": {},
   "outputs": [
    {
     "data": {
      "text/plain": [
       "['Passenger Car',\n",
       " 'Other Vehicle',\n",
       " 'Suv (sport Utility Vehicle)',\n",
       " 'Large/heavy Truck',\n",
       " 'Cargo Van',\n",
       " nan,\n",
       " 'Other Small/light Truck',\n",
       " 'Bus',\n",
       " '2 wheeler',\n",
       " 'Pickup Truck']"
      ]
     },
     "execution_count": 27,
     "metadata": {},
     "output_type": "execute_result"
    }
   ],
   "source": [
    "list(raw[\"INVEHICLETYPE\"].unique())"
   ]
  },
  {
   "cell_type": "markdown",
   "metadata": {},
   "source": [
    "**LICENSEPLATESTATE**"
   ]
  },
  {
   "cell_type": "markdown",
   "metadata": {},
   "source": [
    "Convert the states column to all UPPER case"
   ]
  },
  {
   "cell_type": "code",
   "execution_count": 28,
   "metadata": {},
   "outputs": [],
   "source": [
    "raw[\"LICENSEPLATESTATE\"] = raw[\"LICENSEPLATESTATE\"].str.upper()"
   ]
  },
  {
   "cell_type": "code",
   "execution_count": 29,
   "metadata": {},
   "outputs": [],
   "source": [
    "states_territory_abb = [\"AL\",\"AK\",\"AZ\",\"AR\",\"CA\",\"CO\",\"CT\",\"DE\",\"FL\",\"GA\",\"HI\",\"ID\",\"IL\",\"IN\",\"IA\",\"KS\",\"KY\",\"LA\",\"ME\",\"MD\",\"MA\",\"MI\",\"MN\",\"MS\",\"MO\",\"MT\",\"NE\",\"NV\",\"NH\", \"NJ\",\"NM\",\"NY\",\"NC\",\"ND\",\"OH\",\"OK\",\"OR\",\"PA\",\"RI\", \"SC\", \"SD\",\"TN\",\"TX\",\"UT\",\"VT\",\"VA\",\"WA\",\"WV\",\"WI\",\"WY\", \"AS\", \"DC\", \"GU\", \"MH\", \"MP\", \"PR\", \"VI\"]"
   ]
  },
  {
   "cell_type": "code",
   "execution_count": 30,
   "metadata": {
    "scrolled": true
   },
   "outputs": [
    {
     "data": {
      "text/plain": [
       "['AL',\n",
       " 'AK',\n",
       " 'AZ',\n",
       " 'AR',\n",
       " 'CA',\n",
       " 'CO',\n",
       " 'CT',\n",
       " 'DE',\n",
       " 'FL',\n",
       " 'GA',\n",
       " 'HI',\n",
       " 'ID',\n",
       " 'IL',\n",
       " 'IN',\n",
       " 'IA',\n",
       " 'KS',\n",
       " 'KY',\n",
       " 'LA',\n",
       " 'ME',\n",
       " 'MD',\n",
       " 'MA',\n",
       " 'MI',\n",
       " 'MN',\n",
       " 'MS',\n",
       " 'MO',\n",
       " 'MT',\n",
       " 'NE',\n",
       " 'NV',\n",
       " 'NH',\n",
       " 'NJ',\n",
       " 'NM',\n",
       " 'NY',\n",
       " 'NC',\n",
       " 'ND',\n",
       " 'OH',\n",
       " 'OK',\n",
       " 'OR',\n",
       " 'PA',\n",
       " 'RI',\n",
       " 'SC',\n",
       " 'SD',\n",
       " 'TN',\n",
       " 'TX',\n",
       " 'UT',\n",
       " 'VT',\n",
       " 'VA',\n",
       " 'WA',\n",
       " 'WV',\n",
       " 'WI',\n",
       " 'WY',\n",
       " 'AS',\n",
       " 'DC',\n",
       " 'GU',\n",
       " 'MH',\n",
       " 'MP',\n",
       " 'PR',\n",
       " 'VI']"
      ]
     },
     "execution_count": 30,
     "metadata": {},
     "output_type": "execute_result"
    }
   ],
   "source": [
    "states_territory_abb"
   ]
  },
  {
   "cell_type": "code",
   "execution_count": 31,
   "metadata": {
    "scrolled": true
   },
   "outputs": [
    {
     "data": {
      "text/plain": [
       "[' NONE', 'AM', 'DI', 'OT', 'OU', 'PU', 'UN', 'US']"
      ]
     },
     "execution_count": 31,
     "metadata": {},
     "output_type": "execute_result"
    }
   ],
   "source": [
    "list(np.setdiff1d(raw[\"LICENSEPLATESTATE\"].unique(), states_territory_abb))"
   ]
  },
  {
   "cell_type": "code",
   "execution_count": 32,
   "metadata": {},
   "outputs": [],
   "source": [
    "raw[\"LICENSEPLATESTATE\"].replace({' NONE':np.NaN, 'AM':np.NaN, 'DI':np.NaN, 'OT':np.NaN, 'OU':np.NaN, 'PU':np.NaN, 'UN':np.NaN, 'US':np.NaN}, inplace=True)"
   ]
  },
  {
   "cell_type": "markdown",
   "metadata": {},
   "source": [
    "**AGE**"
   ]
  },
  {
   "cell_type": "code",
   "execution_count": 33,
   "metadata": {},
   "outputs": [],
   "source": [
    "raw[\"AGE\"] = list(pd.cut(raw[\"AGE\"], \n",
    "                         bins=[0, 17, 20, 30, 40, 50, 60, 70, 80, 90], \n",
    "                         labels=[\"0-17\", \"18-20\", \"21-30\", \"31-40\", \"41-50\", \"51-60\", \"61-70\", \"71-80\", \"81-90\"]))"
   ]
  },
  {
   "cell_type": "code",
   "execution_count": 34,
   "metadata": {},
   "outputs": [
    {
     "data": {
      "text/plain": [
       "21-30    107141\n",
       "31-40     96368\n",
       "41-50     77069\n",
       "51-60     62889\n",
       "61-70     31162\n",
       "0-17      14666\n",
       "18-20     11432\n",
       "71-80      9551\n",
       "81-90      2601\n",
       "Name: AGE, dtype: int64"
      ]
     },
     "execution_count": 34,
     "metadata": {},
     "output_type": "execute_result"
    }
   ],
   "source": [
    "raw[\"AGE\"].value_counts()"
   ]
  },
  {
   "cell_type": "markdown",
   "metadata": {},
   "source": [
    "### All columns are categorical"
   ]
  },
  {
   "cell_type": "code",
   "execution_count": 35,
   "metadata": {},
   "outputs": [
    {
     "data": {
      "text/plain": [
       "PERSONTYPE           object\n",
       "AGE                  object\n",
       "FATAL                object\n",
       "MAJORINJURY          object\n",
       "MINORINJURY          object\n",
       "INVEHICLETYPE        object\n",
       "TICKETISSUED         object\n",
       "LICENSEPLATESTATE    object\n",
       "IMPAIRED             object\n",
       "SPEEDING             object\n",
       "dtype: object"
      ]
     },
     "execution_count": 35,
     "metadata": {},
     "output_type": "execute_result"
    }
   ],
   "source": [
    "raw.dtypes"
   ]
  },
  {
   "cell_type": "markdown",
   "metadata": {},
   "source": [
    "### Drop the duplicate rows"
   ]
  },
  {
   "cell_type": "code",
   "execution_count": 36,
   "metadata": {},
   "outputs": [],
   "source": [
    "raw = raw.drop_duplicates()"
   ]
  },
  {
   "cell_type": "code",
   "execution_count": 37,
   "metadata": {},
   "outputs": [
    {
     "data": {
      "text/plain": [
       "N    8008\n",
       "Y     173\n",
       "Name: FATAL, dtype: int64"
      ]
     },
     "execution_count": 37,
     "metadata": {},
     "output_type": "execute_result"
    }
   ],
   "source": [
    "raw[\"FATAL\"].value_counts()"
   ]
  },
  {
   "cell_type": "markdown",
   "metadata": {},
   "source": [
    "# EDA"
   ]
  },
  {
   "cell_type": "code",
   "execution_count": 38,
   "metadata": {
    "scrolled": false
   },
   "outputs": [
    {
     "data": {
      "image/png": "[encoded data removed]",
      "text/plain": [
       "<Figure size 1080x504 with 1 Axes>"
      ]
     },
     "metadata": {
      "needs_background": "light"
     },
     "output_type": "display_data"
    },
    {
     "data": {
      "image/png": "[encoded data removed]",
      "text/plain": [
       "<Figure size 1080x504 with 1 Axes>"
      ]
     },
     "metadata": {
      "needs_background": "light"
     },
     "output_type": "display_data"
    },
    {
     "data": {
      "image/png": "[encoded data removed]",
      "text/plain": [
       "<Figure size 1080x504 with 1 Axes>"
      ]
     },
     "metadata": {
      "needs_background": "light"
     },
     "output_type": "display_data"
    },
    {
     "data": {
      "image/png": "[encoded data removed]",
      "text/plain": [
       "<Figure size 1080x504 with 1 Axes>"
      ]
     },
     "metadata": {
      "needs_background": "light"
     },
     "output_type": "display_data"
    },
    {
     "data": {
      "image/png": "[encoded data removed]",
      "text/plain": [
       "<Figure size 1080x504 with 1 Axes>"
      ]
     },
     "metadata": {
      "needs_background": "light"
     },
     "output_type": "display_data"
    },
    {
     "data": {
      "image/png": "[encoded data removed]",
      "text/plain": [
       "<Figure size 1080x504 with 1 Axes>"
      ]
     },
     "metadata": {
      "needs_background": "light"
     },
     "output_type": "display_data"
    },
    {
     "data": {
      "image/png": "[encoded data removed]",
      "text/plain": [
       "<Figure size 1080x504 with 1 Axes>"
      ]
     },
     "metadata": {
      "needs_background": "light"
     },
     "output_type": "display_data"
    },
    {
     "data": {
      "image/png": "[encoded data removed]",
      "text/plain": [
       "<Figure size 1080x504 with 1 Axes>"
      ]
     },
     "metadata": {
      "needs_background": "light"
     },
     "output_type": "display_data"
    },
    {
     "data": {
      "image/png": "[encoded data removed]",
      "text/plain": [
       "<Figure size 1080x504 with 1 Axes>"
      ]
     },
     "metadata": {
      "needs_background": "light"
     },
     "output_type": "display_data"
    },
    {
     "data": {
      "image/png": "[encoded data removed]",
      "text/plain": [
       "<Figure size 1080x504 with 1 Axes>"
      ]
     },
     "metadata": {
      "needs_background": "light"
     },
     "output_type": "display_data"
    }
   ],
   "source": [
    "# plot distribution of each column including target column\n",
    "for col in raw.columns:\n",
    "    \n",
    "    plt.figure(figsize=(15,7))\n",
    "    # https://stackoverflow.com/a/51676757\n",
    "    ax = raw[col].value_counts().plot(kind=\"bar\")\n",
    "    for p in ax.patches:\n",
    "        ax.annotate('{}'.format(Decimal(str(p.get_height()))), (p.get_x(), p.get_height()))\n",
    "    plt.tight_layout()\n",
    "    plt.title(col)\n",
    "    # https://www.datasciencelearner.com/matplotlib-rotate-x-axis-labels/\n",
    "    plt.xticks(rotation=45)\n",
    "    plt.ylabel('Count')\n",
    "    plt.show()"
   ]
  },
  {
   "cell_type": "markdown",
   "metadata": {},
   "source": [
    "# Stratified Split Based on FATAL Column"
   ]
  },
  {
   "cell_type": "code",
   "execution_count": 39,
   "metadata": {},
   "outputs": [],
   "source": [
    "# convert FATAL column to numeric\n",
    "raw[\"FATAL\"] = raw[\"FATAL\"].replace({\"Y\":1, \"N\":0})"
   ]
  },
  {
   "cell_type": "code",
   "execution_count": 40,
   "metadata": {},
   "outputs": [],
   "source": [
    "# Divide all data into 60-40 split\n",
    "df_train, df_test = data_splitter(raw, 0.6, stratification_column=\"FATAL\", seed=42)"
   ]
  },
  {
   "cell_type": "code",
   "execution_count": 41,
   "metadata": {},
   "outputs": [],
   "source": [
    "# Divide test data into 50-50 split\n",
    "df_val, df_test = data_splitter(df_test, 0.5, stratification_column=\"FATAL\", seed=42)"
   ]
  },
  {
   "cell_type": "markdown",
   "metadata": {},
   "source": [
    "# Handling missing data"
   ]
  },
  {
   "cell_type": "code",
   "execution_count": 42,
   "metadata": {},
   "outputs": [
    {
     "data": {
      "text/html": [
       "<div>\n",
       "<style scoped>\n",
       "    .dataframe tbody tr th:only-of-type {\n",
       "        vertical-align: middle;\n",
       "    }\n",
       "\n",
       "    .dataframe tbody tr th {\n",
       "        vertical-align: top;\n",
       "    }\n",
       "\n",
       "    .dataframe thead th {\n",
       "        text-align: right;\n",
       "    }\n",
       "</style>\n",
       "<table border=\"1\" class=\"dataframe\">\n",
       "  <thead>\n",
       "    <tr style=\"text-align: right;\">\n",
       "      <th></th>\n",
       "      <th>var</th>\n",
       "      <th>proportion</th>\n",
       "      <th>dtype</th>\n",
       "    </tr>\n",
       "  </thead>\n",
       "  <tbody>\n",
       "    <tr>\n",
       "      <th>0</th>\n",
       "      <td>AGE</td>\n",
       "      <td>0.154442</td>\n",
       "      <td>object</td>\n",
       "    </tr>\n",
       "    <tr>\n",
       "      <th>1</th>\n",
       "      <td>LICENSEPLATESTATE</td>\n",
       "      <td>0.096577</td>\n",
       "      <td>object</td>\n",
       "    </tr>\n",
       "    <tr>\n",
       "      <th>2</th>\n",
       "      <td>INVEHICLETYPE</td>\n",
       "      <td>0.017319</td>\n",
       "      <td>object</td>\n",
       "    </tr>\n",
       "  </tbody>\n",
       "</table>\n",
       "</div>"
      ],
      "text/plain": [
       "                 var  proportion   dtype\n",
       "0                AGE    0.154442  object\n",
       "1  LICENSEPLATESTATE    0.096577  object\n",
       "2      INVEHICLETYPE    0.017319  object"
      ]
     },
     "execution_count": 42,
     "metadata": {},
     "output_type": "execute_result"
    }
   ],
   "source": [
    "nan_checker(df_train)"
   ]
  },
  {
   "cell_type": "code",
   "execution_count": 43,
   "metadata": {},
   "outputs": [
    {
     "data": {
      "text/html": [
       "<div>\n",
       "<style scoped>\n",
       "    .dataframe tbody tr th:only-of-type {\n",
       "        vertical-align: middle;\n",
       "    }\n",
       "\n",
       "    .dataframe tbody tr th {\n",
       "        vertical-align: top;\n",
       "    }\n",
       "\n",
       "    .dataframe thead th {\n",
       "        text-align: right;\n",
       "    }\n",
       "</style>\n",
       "<table border=\"1\" class=\"dataframe\">\n",
       "  <thead>\n",
       "    <tr style=\"text-align: right;\">\n",
       "      <th></th>\n",
       "      <th>var</th>\n",
       "      <th>proportion</th>\n",
       "      <th>dtype</th>\n",
       "    </tr>\n",
       "  </thead>\n",
       "  <tbody>\n",
       "    <tr>\n",
       "      <th>0</th>\n",
       "      <td>AGE</td>\n",
       "      <td>0.138142</td>\n",
       "      <td>object</td>\n",
       "    </tr>\n",
       "    <tr>\n",
       "      <th>1</th>\n",
       "      <td>LICENSEPLATESTATE</td>\n",
       "      <td>0.102689</td>\n",
       "      <td>object</td>\n",
       "    </tr>\n",
       "    <tr>\n",
       "      <th>2</th>\n",
       "      <td>INVEHICLETYPE</td>\n",
       "      <td>0.018337</td>\n",
       "      <td>object</td>\n",
       "    </tr>\n",
       "  </tbody>\n",
       "</table>\n",
       "</div>"
      ],
      "text/plain": [
       "                 var  proportion   dtype\n",
       "0                AGE    0.138142  object\n",
       "1  LICENSEPLATESTATE    0.102689  object\n",
       "2      INVEHICLETYPE    0.018337  object"
      ]
     },
     "execution_count": 43,
     "metadata": {},
     "output_type": "execute_result"
    }
   ],
   "source": [
    "nan_checker(df_val)"
   ]
  },
  {
   "cell_type": "code",
   "execution_count": 44,
   "metadata": {},
   "outputs": [
    {
     "data": {
      "text/html": [
       "<div>\n",
       "<style scoped>\n",
       "    .dataframe tbody tr th:only-of-type {\n",
       "        vertical-align: middle;\n",
       "    }\n",
       "\n",
       "    .dataframe tbody tr th {\n",
       "        vertical-align: top;\n",
       "    }\n",
       "\n",
       "    .dataframe thead th {\n",
       "        text-align: right;\n",
       "    }\n",
       "</style>\n",
       "<table border=\"1\" class=\"dataframe\">\n",
       "  <thead>\n",
       "    <tr style=\"text-align: right;\">\n",
       "      <th></th>\n",
       "      <th>var</th>\n",
       "      <th>proportion</th>\n",
       "      <th>dtype</th>\n",
       "    </tr>\n",
       "  </thead>\n",
       "  <tbody>\n",
       "    <tr>\n",
       "      <th>0</th>\n",
       "      <td>AGE</td>\n",
       "      <td>0.149664</td>\n",
       "      <td>object</td>\n",
       "    </tr>\n",
       "    <tr>\n",
       "      <th>1</th>\n",
       "      <td>LICENSEPLATESTATE</td>\n",
       "      <td>0.105681</td>\n",
       "      <td>object</td>\n",
       "    </tr>\n",
       "    <tr>\n",
       "      <th>2</th>\n",
       "      <td>INVEHICLETYPE</td>\n",
       "      <td>0.020770</td>\n",
       "      <td>object</td>\n",
       "    </tr>\n",
       "  </tbody>\n",
       "</table>\n",
       "</div>"
      ],
      "text/plain": [
       "                 var  proportion   dtype\n",
       "0                AGE    0.149664  object\n",
       "1  LICENSEPLATESTATE    0.105681  object\n",
       "2      INVEHICLETYPE    0.020770  object"
      ]
     },
     "execution_count": 44,
     "metadata": {},
     "output_type": "execute_result"
    }
   ],
   "source": [
    "nan_checker(df_test)"
   ]
  },
  {
   "cell_type": "markdown",
   "metadata": {},
   "source": [
    "Impute missing data for train using train statistics and impute missing data in test using test statistics!"
   ]
  },
  {
   "cell_type": "code",
   "execution_count": 45,
   "metadata": {},
   "outputs": [],
   "source": [
    "df_train, df_val, df_test = impute_data([\"AGE\", \"LICENSEPLATESTATE\", \"INVEHICLETYPE\"], df_train, df_val, df_test, \"most_frequent\")"
   ]
  },
  {
   "cell_type": "code",
   "execution_count": 46,
   "metadata": {},
   "outputs": [
    {
     "data": {
      "text/html": [
       "<div>\n",
       "<style scoped>\n",
       "    .dataframe tbody tr th:only-of-type {\n",
       "        vertical-align: middle;\n",
       "    }\n",
       "\n",
       "    .dataframe tbody tr th {\n",
       "        vertical-align: top;\n",
       "    }\n",
       "\n",
       "    .dataframe thead th {\n",
       "        text-align: right;\n",
       "    }\n",
       "</style>\n",
       "<table border=\"1\" class=\"dataframe\">\n",
       "  <thead>\n",
       "    <tr style=\"text-align: right;\">\n",
       "      <th></th>\n",
       "      <th>var</th>\n",
       "      <th>proportion</th>\n",
       "      <th>dtype</th>\n",
       "    </tr>\n",
       "  </thead>\n",
       "  <tbody>\n",
       "  </tbody>\n",
       "</table>\n",
       "</div>"
      ],
      "text/plain": [
       "Empty DataFrame\n",
       "Columns: [var, proportion, dtype]\n",
       "Index: []"
      ]
     },
     "execution_count": 46,
     "metadata": {},
     "output_type": "execute_result"
    }
   ],
   "source": [
    "nan_checker(df_train)"
   ]
  },
  {
   "cell_type": "code",
   "execution_count": 47,
   "metadata": {},
   "outputs": [
    {
     "data": {
      "text/html": [
       "<div>\n",
       "<style scoped>\n",
       "    .dataframe tbody tr th:only-of-type {\n",
       "        vertical-align: middle;\n",
       "    }\n",
       "\n",
       "    .dataframe tbody tr th {\n",
       "        vertical-align: top;\n",
       "    }\n",
       "\n",
       "    .dataframe thead th {\n",
       "        text-align: right;\n",
       "    }\n",
       "</style>\n",
       "<table border=\"1\" class=\"dataframe\">\n",
       "  <thead>\n",
       "    <tr style=\"text-align: right;\">\n",
       "      <th></th>\n",
       "      <th>var</th>\n",
       "      <th>proportion</th>\n",
       "      <th>dtype</th>\n",
       "    </tr>\n",
       "  </thead>\n",
       "  <tbody>\n",
       "  </tbody>\n",
       "</table>\n",
       "</div>"
      ],
      "text/plain": [
       "Empty DataFrame\n",
       "Columns: [var, proportion, dtype]\n",
       "Index: []"
      ]
     },
     "execution_count": 47,
     "metadata": {},
     "output_type": "execute_result"
    }
   ],
   "source": [
    "nan_checker(df_val)"
   ]
  },
  {
   "cell_type": "code",
   "execution_count": 48,
   "metadata": {},
   "outputs": [
    {
     "data": {
      "text/html": [
       "<div>\n",
       "<style scoped>\n",
       "    .dataframe tbody tr th:only-of-type {\n",
       "        vertical-align: middle;\n",
       "    }\n",
       "\n",
       "    .dataframe tbody tr th {\n",
       "        vertical-align: top;\n",
       "    }\n",
       "\n",
       "    .dataframe thead th {\n",
       "        text-align: right;\n",
       "    }\n",
       "</style>\n",
       "<table border=\"1\" class=\"dataframe\">\n",
       "  <thead>\n",
       "    <tr style=\"text-align: right;\">\n",
       "      <th></th>\n",
       "      <th>var</th>\n",
       "      <th>proportion</th>\n",
       "      <th>dtype</th>\n",
       "    </tr>\n",
       "  </thead>\n",
       "  <tbody>\n",
       "  </tbody>\n",
       "</table>\n",
       "</div>"
      ],
      "text/plain": [
       "Empty DataFrame\n",
       "Columns: [var, proportion, dtype]\n",
       "Index: []"
      ]
     },
     "execution_count": 48,
     "metadata": {},
     "output_type": "execute_result"
    }
   ],
   "source": [
    "nan_checker(df_test)"
   ]
  },
  {
   "cell_type": "markdown",
   "metadata": {},
   "source": [
    "# Encode Categorical Data"
   ]
  },
  {
   "cell_type": "code",
   "execution_count": 49,
   "metadata": {},
   "outputs": [
    {
     "data": {
      "text/plain": [
       "PERSONTYPE           object\n",
       "AGE                  object\n",
       "FATAL                 int64\n",
       "MAJORINJURY          object\n",
       "MINORINJURY          object\n",
       "INVEHICLETYPE        object\n",
       "TICKETISSUED         object\n",
       "LICENSEPLATESTATE    object\n",
       "IMPAIRED             object\n",
       "SPEEDING             object\n",
       "dtype: object"
      ]
     },
     "execution_count": 49,
     "metadata": {},
     "output_type": "execute_result"
    }
   ],
   "source": [
    "raw.dtypes"
   ]
  },
  {
   "cell_type": "markdown",
   "metadata": {},
   "source": [
    "All columns are categorical, we one hot encode the data."
   ]
  },
  {
   "cell_type": "code",
   "execution_count": 50,
   "metadata": {},
   "outputs": [
    {
     "data": {
      "text/plain": [
       "4908"
      ]
     },
     "execution_count": 50,
     "metadata": {},
     "output_type": "execute_result"
    }
   ],
   "source": [
    "len(df_train)"
   ]
  },
  {
   "cell_type": "code",
   "execution_count": 51,
   "metadata": {},
   "outputs": [
    {
     "data": {
      "text/plain": [
       "1636"
      ]
     },
     "execution_count": 51,
     "metadata": {},
     "output_type": "execute_result"
    }
   ],
   "source": [
    "len(df_val)"
   ]
  },
  {
   "cell_type": "code",
   "execution_count": 52,
   "metadata": {},
   "outputs": [
    {
     "data": {
      "text/plain": [
       "1637"
      ]
     },
     "execution_count": 52,
     "metadata": {},
     "output_type": "execute_result"
    }
   ],
   "source": [
    "len(df_test)"
   ]
  },
  {
   "cell_type": "code",
   "execution_count": 53,
   "metadata": {},
   "outputs": [],
   "source": [
    "# Combine df_train, df_val and df_test\n",
    "df = pd.concat([df_train, df_val, df_test], sort=False)"
   ]
  },
  {
   "cell_type": "code",
   "execution_count": 54,
   "metadata": {},
   "outputs": [
    {
     "data": {
      "text/html": [
       "<div>\n",
       "<style scoped>\n",
       "    .dataframe tbody tr th:only-of-type {\n",
       "        vertical-align: middle;\n",
       "    }\n",
       "\n",
       "    .dataframe tbody tr th {\n",
       "        vertical-align: top;\n",
       "    }\n",
       "\n",
       "    .dataframe thead th {\n",
       "        text-align: right;\n",
       "    }\n",
       "</style>\n",
       "<table border=\"1\" class=\"dataframe\">\n",
       "  <thead>\n",
       "    <tr style=\"text-align: right;\">\n",
       "      <th></th>\n",
       "      <th>FATAL</th>\n",
       "      <th>PERSONTYPE_Bicyclist</th>\n",
       "      <th>PERSONTYPE_Driver</th>\n",
       "      <th>PERSONTYPE_Passenger</th>\n",
       "      <th>PERSONTYPE_Pedestrian</th>\n",
       "      <th>AGE_0-17</th>\n",
       "      <th>AGE_18-20</th>\n",
       "      <th>AGE_21-30</th>\n",
       "      <th>AGE_31-40</th>\n",
       "      <th>AGE_41-50</th>\n",
       "      <th>...</th>\n",
       "      <th>MAJORINJURY_N</th>\n",
       "      <th>MAJORINJURY_Y</th>\n",
       "      <th>MINORINJURY_N</th>\n",
       "      <th>MINORINJURY_Y</th>\n",
       "      <th>TICKETISSUED_N</th>\n",
       "      <th>TICKETISSUED_Y</th>\n",
       "      <th>IMPAIRED_N</th>\n",
       "      <th>IMPAIRED_Y</th>\n",
       "      <th>SPEEDING_N</th>\n",
       "      <th>SPEEDING_Y</th>\n",
       "    </tr>\n",
       "  </thead>\n",
       "  <tbody>\n",
       "    <tr>\n",
       "      <th>0</th>\n",
       "      <td>0</td>\n",
       "      <td>0</td>\n",
       "      <td>1</td>\n",
       "      <td>0</td>\n",
       "      <td>0</td>\n",
       "      <td>0</td>\n",
       "      <td>0</td>\n",
       "      <td>0</td>\n",
       "      <td>0</td>\n",
       "      <td>1</td>\n",
       "      <td>...</td>\n",
       "      <td>1</td>\n",
       "      <td>0</td>\n",
       "      <td>1</td>\n",
       "      <td>0</td>\n",
       "      <td>0</td>\n",
       "      <td>1</td>\n",
       "      <td>1</td>\n",
       "      <td>0</td>\n",
       "      <td>1</td>\n",
       "      <td>0</td>\n",
       "    </tr>\n",
       "    <tr>\n",
       "      <th>1</th>\n",
       "      <td>0</td>\n",
       "      <td>0</td>\n",
       "      <td>1</td>\n",
       "      <td>0</td>\n",
       "      <td>0</td>\n",
       "      <td>0</td>\n",
       "      <td>0</td>\n",
       "      <td>1</td>\n",
       "      <td>0</td>\n",
       "      <td>0</td>\n",
       "      <td>...</td>\n",
       "      <td>1</td>\n",
       "      <td>0</td>\n",
       "      <td>1</td>\n",
       "      <td>0</td>\n",
       "      <td>1</td>\n",
       "      <td>0</td>\n",
       "      <td>0</td>\n",
       "      <td>1</td>\n",
       "      <td>1</td>\n",
       "      <td>0</td>\n",
       "    </tr>\n",
       "    <tr>\n",
       "      <th>2</th>\n",
       "      <td>0</td>\n",
       "      <td>0</td>\n",
       "      <td>1</td>\n",
       "      <td>0</td>\n",
       "      <td>0</td>\n",
       "      <td>0</td>\n",
       "      <td>0</td>\n",
       "      <td>0</td>\n",
       "      <td>0</td>\n",
       "      <td>1</td>\n",
       "      <td>...</td>\n",
       "      <td>1</td>\n",
       "      <td>0</td>\n",
       "      <td>1</td>\n",
       "      <td>0</td>\n",
       "      <td>1</td>\n",
       "      <td>0</td>\n",
       "      <td>1</td>\n",
       "      <td>0</td>\n",
       "      <td>1</td>\n",
       "      <td>0</td>\n",
       "    </tr>\n",
       "    <tr>\n",
       "      <th>3</th>\n",
       "      <td>0</td>\n",
       "      <td>0</td>\n",
       "      <td>0</td>\n",
       "      <td>1</td>\n",
       "      <td>0</td>\n",
       "      <td>0</td>\n",
       "      <td>0</td>\n",
       "      <td>1</td>\n",
       "      <td>0</td>\n",
       "      <td>0</td>\n",
       "      <td>...</td>\n",
       "      <td>1</td>\n",
       "      <td>0</td>\n",
       "      <td>1</td>\n",
       "      <td>0</td>\n",
       "      <td>1</td>\n",
       "      <td>0</td>\n",
       "      <td>1</td>\n",
       "      <td>0</td>\n",
       "      <td>1</td>\n",
       "      <td>0</td>\n",
       "    </tr>\n",
       "    <tr>\n",
       "      <th>4</th>\n",
       "      <td>0</td>\n",
       "      <td>0</td>\n",
       "      <td>1</td>\n",
       "      <td>0</td>\n",
       "      <td>0</td>\n",
       "      <td>0</td>\n",
       "      <td>0</td>\n",
       "      <td>0</td>\n",
       "      <td>1</td>\n",
       "      <td>0</td>\n",
       "      <td>...</td>\n",
       "      <td>1</td>\n",
       "      <td>0</td>\n",
       "      <td>0</td>\n",
       "      <td>1</td>\n",
       "      <td>1</td>\n",
       "      <td>0</td>\n",
       "      <td>1</td>\n",
       "      <td>0</td>\n",
       "      <td>1</td>\n",
       "      <td>0</td>\n",
       "    </tr>\n",
       "  </tbody>\n",
       "</table>\n",
       "<p>5 rows × 85 columns</p>\n",
       "</div>"
      ],
      "text/plain": [
       "   FATAL  PERSONTYPE_Bicyclist  PERSONTYPE_Driver  PERSONTYPE_Passenger  \\\n",
       "0      0                     0                  1                     0   \n",
       "1      0                     0                  1                     0   \n",
       "2      0                     0                  1                     0   \n",
       "3      0                     0                  0                     1   \n",
       "4      0                     0                  1                     0   \n",
       "\n",
       "   PERSONTYPE_Pedestrian  AGE_0-17  AGE_18-20  AGE_21-30  AGE_31-40  \\\n",
       "0                      0         0          0          0          0   \n",
       "1                      0         0          0          1          0   \n",
       "2                      0         0          0          0          0   \n",
       "3                      0         0          0          1          0   \n",
       "4                      0         0          0          0          1   \n",
       "\n",
       "   AGE_41-50  ...  MAJORINJURY_N  MAJORINJURY_Y  MINORINJURY_N  MINORINJURY_Y  \\\n",
       "0          1  ...              1              0              1              0   \n",
       "1          0  ...              1              0              1              0   \n",
       "2          1  ...              1              0              1              0   \n",
       "3          0  ...              1              0              1              0   \n",
       "4          0  ...              1              0              0              1   \n",
       "\n",
       "   TICKETISSUED_N  TICKETISSUED_Y  IMPAIRED_N  IMPAIRED_Y  SPEEDING_N  \\\n",
       "0               0               1           1           0           1   \n",
       "1               1               0           0           1           1   \n",
       "2               1               0           1           0           1   \n",
       "3               1               0           1           0           1   \n",
       "4               1               0           1           0           1   \n",
       "\n",
       "   SPEEDING_Y  \n",
       "0           0  \n",
       "1           0  \n",
       "2           0  \n",
       "3           0  \n",
       "4           0  \n",
       "\n",
       "[5 rows x 85 columns]"
      ]
     },
     "execution_count": 54,
     "metadata": {},
     "output_type": "execute_result"
    }
   ],
   "source": [
    "# One-hot-encode the categorical features in the combined data\n",
    "df = pd.get_dummies(df, columns=[\"PERSONTYPE\", \"AGE\", \"INVEHICLETYPE\", \"LICENSEPLATESTATE\", \"MAJORINJURY\", \"MINORINJURY\", \"TICKETISSUED\", \"IMPAIRED\", \"SPEEDING\"])\n",
    "\n",
    "# Print the first 5 rows of df\n",
    "df.head()"
   ]
  },
  {
   "cell_type": "code",
   "execution_count": 55,
   "metadata": {},
   "outputs": [],
   "source": [
    "# Separating the training, validation and test data\n",
    "\n",
    "# Separating the training data\n",
    "df_train = df.iloc[:df_train.shape[0], :]\n",
    "\n",
    "# Separating the validation data\n",
    "df_val = df.iloc[df_train.shape[0]:df_train.shape[0] + df_val.shape[0], :]\n",
    "\n",
    "# Separating the test data\n",
    "df_test = df.iloc[df_train.shape[0] + df_val.shape[0]:, :]"
   ]
  },
  {
   "cell_type": "code",
   "execution_count": 56,
   "metadata": {},
   "outputs": [
    {
     "data": {
      "text/plain": [
       "4908"
      ]
     },
     "execution_count": 56,
     "metadata": {},
     "output_type": "execute_result"
    }
   ],
   "source": [
    "len(df_train)"
   ]
  },
  {
   "cell_type": "code",
   "execution_count": 57,
   "metadata": {},
   "outputs": [
    {
     "data": {
      "text/plain": [
       "1636"
      ]
     },
     "execution_count": 57,
     "metadata": {},
     "output_type": "execute_result"
    }
   ],
   "source": [
    "len(df_val)"
   ]
  },
  {
   "cell_type": "code",
   "execution_count": 58,
   "metadata": {},
   "outputs": [
    {
     "data": {
      "text/plain": [
       "1637"
      ]
     },
     "execution_count": 58,
     "metadata": {},
     "output_type": "execute_result"
    }
   ],
   "source": [
    "len(df_test)"
   ]
  },
  {
   "cell_type": "code",
   "execution_count": 59,
   "metadata": {
    "scrolled": true
   },
   "outputs": [
    {
     "data": {
      "text/plain": [
       "0    97.881011\n",
       "1     2.118989\n",
       "Name: FATAL, dtype: float64"
      ]
     },
     "execution_count": 59,
     "metadata": {},
     "output_type": "execute_result"
    }
   ],
   "source": [
    "(df_train[\"FATAL\"].value_counts()/len(df_train))*100"
   ]
  },
  {
   "cell_type": "code",
   "execution_count": 60,
   "metadata": {},
   "outputs": [
    {
     "data": {
      "text/plain": [
       "0    97.92176\n",
       "1     2.07824\n",
       "Name: FATAL, dtype: float64"
      ]
     },
     "execution_count": 60,
     "metadata": {},
     "output_type": "execute_result"
    }
   ],
   "source": [
    "(df_val[\"FATAL\"].value_counts()/len(df_val))*100"
   ]
  },
  {
   "cell_type": "code",
   "execution_count": 61,
   "metadata": {},
   "outputs": [
    {
     "data": {
      "text/plain": [
       "0    97.861943\n",
       "1     2.138057\n",
       "Name: FATAL, dtype: float64"
      ]
     },
     "execution_count": 61,
     "metadata": {},
     "output_type": "execute_result"
    }
   ],
   "source": [
    "(df_test[\"FATAL\"].value_counts()/len(df_test))*100"
   ]
  },
  {
   "cell_type": "markdown",
   "metadata": {},
   "source": [
    "### Save train and test data as csv files"
   ]
  },
  {
   "cell_type": "code",
   "execution_count": 62,
   "metadata": {},
   "outputs": [],
   "source": [
    "df_train.to_csv(\"input_data/train.csv\", index=False)\n",
    "df_val.to_csv(\"input_data/validation.csv\", index=False)\n",
    "df_test.to_csv(\"input_data/test.csv\", index=False)"
   ]
  },
  {
   "cell_type": "markdown",
   "metadata": {},
   "source": [
    "--------------------"
   ]
  },
  {
   "cell_type": "markdown",
   "metadata": {},
   "source": [
    "### Separate the feature and Target columns"
   ]
  },
  {
   "cell_type": "code",
   "execution_count": 63,
   "metadata": {},
   "outputs": [],
   "source": [
    "X_train, y_train = df_train[np.setdiff1d(df_train.columns, \"FATAL\")].values, df_train[\"FATAL\"].values"
   ]
  },
  {
   "cell_type": "code",
   "execution_count": 64,
   "metadata": {},
   "outputs": [
    {
     "name": "stdout",
     "output_type": "stream",
     "text": [
      "[[0 0 0 ... 0 0 1]\n",
      " [0 0 1 ... 0 1 0]\n",
      " [0 0 0 ... 0 1 0]\n",
      " ...\n",
      " [0 0 1 ... 0 0 1]\n",
      " [0 0 0 ... 0 1 0]\n",
      " [0 0 0 ... 0 1 0]]\n",
      "\n",
      "[0 0 0 ... 0 0 0]\n"
     ]
    }
   ],
   "source": [
    "print(X_train)\n",
    "print()\n",
    "print(y_train)"
   ]
  },
  {
   "cell_type": "code",
   "execution_count": 65,
   "metadata": {},
   "outputs": [],
   "source": [
    "X_val, y_val = df_val[np.setdiff1d(df_val.columns, \"FATAL\")].values, df_val[\"FATAL\"].values"
   ]
  },
  {
   "cell_type": "code",
   "execution_count": 66,
   "metadata": {},
   "outputs": [
    {
     "name": "stdout",
     "output_type": "stream",
     "text": [
      "[[0 0 0 ... 0 1 0]\n",
      " [0 0 0 ... 0 1 0]\n",
      " [0 0 1 ... 0 1 0]\n",
      " ...\n",
      " [0 0 1 ... 0 1 0]\n",
      " [0 0 0 ... 0 1 0]\n",
      " [0 0 0 ... 1 1 0]]\n",
      "\n",
      "[0 0 0 ... 0 0 0]\n"
     ]
    }
   ],
   "source": [
    "print(X_val)\n",
    "print()\n",
    "print(y_val)"
   ]
  },
  {
   "cell_type": "code",
   "execution_count": 67,
   "metadata": {},
   "outputs": [],
   "source": [
    "X_test, y_test = df_test[np.setdiff1d(df_test.columns, \"FATAL\")].values, df_test[\"FATAL\"].values"
   ]
  },
  {
   "cell_type": "code",
   "execution_count": 68,
   "metadata": {},
   "outputs": [
    {
     "name": "stdout",
     "output_type": "stream",
     "text": [
      "[[0 0 1 ... 1 1 0]\n",
      " [0 0 1 ... 0 1 0]\n",
      " [0 0 0 ... 0 0 1]\n",
      " ...\n",
      " [0 0 0 ... 0 1 0]\n",
      " [0 0 1 ... 0 1 0]\n",
      " [0 0 0 ... 0 1 0]]\n",
      "\n",
      "[0 0 0 ... 0 0 0]\n"
     ]
    }
   ],
   "source": [
    "print(X_test)\n",
    "print()\n",
    "print(y_test)"
   ]
  },
  {
   "cell_type": "markdown",
   "metadata": {},
   "source": [
    "### Pickle X_train, y_train, X_val, y_val, X_test, y_test"
   ]
  },
  {
   "cell_type": "code",
   "execution_count": 69,
   "metadata": {},
   "outputs": [],
   "source": [
    "save_object(\"./input_data/\", \"X_train\", X_train)\n",
    "save_object(\"./input_data/\", \"y_train\", y_train)\n",
    "save_object(\"./input_data/\", \"X_val\", X_val)\n",
    "save_object(\"./input_data/\", \"y_val\", y_val)\n",
    "save_object(\"./input_data/\", \"X_test\", X_test)\n",
    "save_object(\"./input_data/\", \"y_test\", y_test)"
   ]
  },
  {
   "cell_type": "code",
   "execution_count": null,
   "metadata": {},
   "outputs": [],
   "source": []
  }
 ],
 "metadata": {
  "kernelspec": {
   "display_name": "Python 3",
   "language": "python",
   "name": "python3"
  },
  "language_info": {
   "codemirror_mode": {
    "name": "ipython",
    "version": 3
   },
   "file_extension": ".py",
   "mimetype": "text/x-python",
   "name": "python",
   "nbconvert_exporter": "python",
   "pygments_lexer": "ipython3",
   "version": "3.7.9"
  }
 },
 "nbformat": 4,
 "nbformat_minor": 4
}
