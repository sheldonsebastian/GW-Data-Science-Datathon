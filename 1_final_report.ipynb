{
 "cells": [
  {
   "cell_type": "markdown",
   "metadata": {},
   "source": [
    "# Fatality Prediction for Car Crash\n",
    "\n",
    "Sheldon Sebastian\n",
    "\n",
    "---------------\n",
    "\n",
    "![](images/Banner.jpg)\n",
    "\n",
    "# Abstract\n",
    "\n",
    "The costs of fatalities and injuries due to traffic accidents have a great impact on the society. This project explores the deaths caused by car accidents in the DC area. Car crash dataset was analyzed and it was found that the target FATAL class has severe imbalance. To predict the fatality caused by car accidents predictive models such as Logistic Regression, Decision Tree, Random Forest, XGBoost and ensemble of best models were used. The performance of models are compared and feature importance for each model is performed.\n",
    "\n",
    "*Keywords*: Predictive Modeling, Class Imbalance, Logistic Regression, Decision Tree, Random Forest, XGBoost, Ensembling"
   ]
  },
  {
   "cell_type": "markdown",
   "metadata": {},
   "source": [
    "## Table of Contents:\n",
    "\n",
    "1. Introduction\n",
    "    - Business Usecase\n",
    "    - Dataset Description\n",
    "2. Workflow \n",
    "3. Folder Structure\n",
    "4. Pipeline\n",
    "    - Data Preprocessing and Cleaning\n",
    "    - Exploratory Data Analysis\n",
    "    - Evaluation Metric\n",
    "    - Modeling \n",
    "        - Dummy Classifier\n",
    "        - Logistic Regression\n",
    "        - Decision Tree\n",
    "        - Random Forest\n",
    "        - XGBoost\n",
    "        - Model Ensemble\n",
    "5. Performance Comparison\n",
    "6. Model Interpretation\n",
    "7. Conclusion\n",
    "- References\n",
    "------------------"
   ]
  },
  {
   "cell_type": "markdown",
   "metadata": {},
   "source": [
    "# 1. Introduction\n",
    "\n",
    "Road traffic crashes are one of the world's largest public health and injury prevention problems. The problem is all the more acute because the victims are overwhelmingly healthy before their crashes. This project focuses on predicting fatalities or deaths caused by car crash accidents in DC. If we can predict the person's risk of fatality based on input features we can provide high priority emergency services. This will reduce death rate and save the person's life.\n",
    "\n",
    "\n",
    "### Business Usecase:\n",
    "\n",
    "This project can help emergency agencies and services to dispatch proper response based on risk of fatality for individuals in car crash. \n",
    "\n",
    "### Dataset Description:\n",
    "\n",
    "To achieve the task of predicting fatality for user in car crash the dataset was downloaded from Metropolitan Police Department's Crash Data Management System. It can be accessed [here](https://opendata.dc.gov/datasets/70248b73c20f46b0a5ee895fc91d6222/data)\n",
    "\n",
    "*Data dictionary:*\n",
    "\n",
    "| Column Name       | Description     | Notes     | \n",
    "| :------------- | :----------: | -----------: |\n",
    "|  OBJECTID | Unique Identifier to the dataset   |     |\n",
    "|  CRIMEID  | Foreign key to external dataset |  |\n",
    "|  CCN  | Foreign key to external dataset |  |\n",
    "|  PERSONID  | Unique Identifier for person |  |\n",
    "|  PERSONTYPE  | Type of participant | Possible values are: Passenger, Driver, Pedestrian, Bicyclist  |\n",
    "|  AGE  | Age of participants | Numeric column |\n",
    "|  MAJORINJURY  | Participant suffered Major Injuries  | Yes-No |\n",
    "|  MINORINJURY  | Participant suffered Minor Injuries | Yes-No |\n",
    "|  VEHICLEID  | Unique Identifier for vehicle |  |\n",
    "|  INVEHICLETYPE  | Type of vehicle  | Passenger car, large truck, taxi, government, bicycle, pedestrian, etc |\n",
    "|  TICKETISSUED  | If persons issued a ticket | Yes-No |\n",
    "|  LICENSEPLATESTATE  | If a vehicle, the state (jurisdiction) license plate was issued (not license plate number) | 50 States |\n",
    "|  IMPAIRED  | Are any persons deemed ‘impaired’ | Yes-No |\n",
    "|  SPEEDING  | Was person in vehicle where speeding was indicated | Yes-No |\n",
    "|  **FATAL**  | Fatality of the person involved in car crash | This is the **TARGET** variable and is binary. Yes-No |"
   ]
  },
  {
   "cell_type": "markdown",
   "metadata": {},
   "source": [
    "# 2. WorkFlow\n",
    "\n",
    "The following tasks were performed in this project:\n",
    "![](images/workflow.png)"
   ]
  },
  {
   "cell_type": "markdown",
   "metadata": {},
   "source": [
    "# 3. Folder Structure\n",
    "\n",
    "![](images/folder_structure_1.jpg)\n",
    "\n",
    "The **model_trainer** folder contains the following folders:\n",
    "\n",
    "![](images/folder_structure_2.jpg)"
   ]
  },
  {
   "cell_type": "markdown",
   "metadata": {},
   "source": [
    "# 4. Pipeline"
   ]
  },
  {
   "cell_type": "markdown",
   "metadata": {},
   "source": [
    "### Data Preprocessing and Cleaning"
   ]
  },
  {
   "cell_type": "markdown",
   "metadata": {},
   "source": [
    "### Exploratory Data Analysis"
   ]
  },
  {
   "cell_type": "markdown",
   "metadata": {},
   "source": [
    "### Evaluation Metric"
   ]
  },
  {
   "cell_type": "markdown",
   "metadata": {},
   "source": [
    "### Modeling"
   ]
  },
  {
   "cell_type": "markdown",
   "metadata": {},
   "source": [
    "**1. Dummy Classifier**"
   ]
  },
  {
   "cell_type": "markdown",
   "metadata": {},
   "source": [
    "**2.Logistic Regression**"
   ]
  },
  {
   "cell_type": "markdown",
   "metadata": {},
   "source": [
    "**3.Decision Tree**"
   ]
  },
  {
   "cell_type": "markdown",
   "metadata": {},
   "source": [
    "**4.Random Forest**"
   ]
  },
  {
   "cell_type": "markdown",
   "metadata": {},
   "source": [
    "**5.XGBoost**"
   ]
  },
  {
   "cell_type": "markdown",
   "metadata": {},
   "source": [
    "**6.Model Ensemble**"
   ]
  },
  {
   "cell_type": "markdown",
   "metadata": {},
   "source": [
    "# 5. Performance Comparison"
   ]
  },
  {
   "cell_type": "markdown",
   "metadata": {},
   "source": [
    "# 6. Model Interpretation"
   ]
  },
  {
   "cell_type": "markdown",
   "metadata": {},
   "source": [
    "# 7. Conclusion\n",
    "\n",
    "#### Future Scope:\n",
    "...."
   ]
  },
  {
   "cell_type": "markdown",
   "metadata": {},
   "source": [
    "# References\n",
    "\n",
    "- https://nycdatascience.com/blog/student-works/predicting-road-accident-fatality-likelihood/\n",
    "- https://en.wikipedia.org/wiki/Road_traffic_safety"
   ]
  }
 ],
 "metadata": {
  "kernelspec": {
   "display_name": "Python 3",
   "language": "python",
   "name": "python3"
  },
  "language_info": {
   "codemirror_mode": {
    "name": "ipython",
    "version": 3
   },
   "file_extension": ".py",
   "mimetype": "text/x-python",
   "name": "python",
   "nbconvert_exporter": "python",
   "pygments_lexer": "ipython3",
   "version": "3.7.9"
  }
 },
 "nbformat": 4,
 "nbformat_minor": 4
}
