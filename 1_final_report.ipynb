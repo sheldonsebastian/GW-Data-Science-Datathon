{
 "cells": [
  {
   "cell_type": "markdown",
   "metadata": {},
   "source": [
    "# Fatality Prediction for Car Crash\n",
    "\n",
    "Sheldon Sebastian\n",
    "\n",
    "---------------\n",
    "\n",
    "![](images/Banner.jpg)\n",
    "\n",
    "# Abstract\n",
    "\n",
    "The costs of fatalities and injuries due to traffic accidents have a great impact on the society. This project explores the deaths caused by car accidents in the DC area. Car crash dataset was analyzed and it was found that the target FATAL class has severe imbalance. To predict the fatality caused by car accidents predictive models such as Logistic Regression, Decision Tree, Random Forest, XGBoost and ensemble of best models were used for classification. The performance of models are compared and feature importance for each model is performed.\n",
    "\n",
    "*Keywords*: Binary Classification, Class Imbalance, Logistic Regression, Decision Tree, Random Forest, XGBoost, Ensembling"
   ]
  },
  {
   "cell_type": "markdown",
   "metadata": {},
   "source": [
    "## Table of Contents:\n",
    "\n",
    "- Introduction\n",
    "    - Business Usecase\n",
    "    - Dataset Description\n",
    "    \n",
    "    \n",
    "- Workflow \n",
    "\n",
    "\n",
    "- Folder Structure\n",
    "\n",
    "\n",
    "- Data Preprocessing\n",
    "    - Data Cleaning\n",
    "    - Exploratory Data Analysis\n",
    "    - Stratified Train-Validation-Test Splits\n",
    "    - Handling Missing Data\n",
    "    - Encoding Categorical Columns\n",
    "    - Separating Feature and Target\n",
    "    \n",
    "    \n",
    "- Modeling \n",
    "    - Evaluation Metric\n",
    "    - Dummy Classifier\n",
    "    - Logistic Regression\n",
    "    - Decision Tree\n",
    "    - Random Forest\n",
    "    - XGBoost\n",
    "    - Model Ensemble\n",
    "    \n",
    "    \n",
    "- Performance Comparison\n",
    "\n",
    "\n",
    "- Model Interpretation\n",
    "\n",
    "\n",
    "- Conclusion\n",
    "\n",
    "\n",
    "- References\n",
    "\n",
    "------------------"
   ]
  },
  {
   "cell_type": "markdown",
   "metadata": {},
   "source": [
    "# 1. Introduction\n",
    "\n",
    "Road traffic crashes are one of the world's largest public health and injury prevention problems. The problem is all the more acute because the victims are overwhelmingly healthy before their crashes. This project focuses on predicting fatalities or deaths caused by car crash accidents in DC. If we can predict the person's risk of fatality based on input features we can provide high priority emergency services. This will reduce death rate and save the person's life.\n",
    "\n",
    "\n",
    "### Business Usecase:\n",
    "\n",
    "This project can help emergency agencies and services to dispatch proper response based on risk of fatality for individuals in car crash. \n",
    "\n",
    "### Dataset Description:\n",
    "\n",
    "To achieve the task of predicting fatality for user in car crash the dataset was downloaded from Metropolitan Police Department's Crash Data Management System. It can be accessed [here](https://opendata.dc.gov/datasets/70248b73c20f46b0a5ee895fc91d6222/data)\n",
    "\n",
    "*Data dictionary:*\n",
    "\n",
    "| Column Name       | Description     | Notes     | \n",
    "| :------------- | :----------: | -----------: |\n",
    "|  OBJECTID | Unique Identifier to the dataset   |     |\n",
    "|  CRIMEID  | Foreign key to external dataset |  |\n",
    "|  CCN  | Foreign key to external dataset |  |\n",
    "|  PERSONID  | Unique Identifier for person |  |\n",
    "|  PERSONTYPE  | Type of participant | Possible values are: Passenger, Driver, Pedestrian, Bicyclist  |\n",
    "|  AGE  | Age of participants | Numeric column |\n",
    "|  MAJORINJURY  | Participant suffered Major Injuries  | Yes-No |\n",
    "|  MINORINJURY  | Participant suffered Minor Injuries | Yes-No |\n",
    "|  VEHICLEID  | Unique Identifier for vehicle |  |\n",
    "|  INVEHICLETYPE  | Type of vehicle  | Passenger car, large truck, taxi, government, bicycle, pedestrian, etc |\n",
    "|  TICKETISSUED  | If persons issued a ticket | Yes-No |\n",
    "|  LICENSEPLATESTATE  | If a vehicle, the state (jurisdiction) license plate was issued (not license plate number) | 50 States |\n",
    "|  IMPAIRED  | Are any persons deemed ‘impaired’ | Yes-No |\n",
    "|  SPEEDING  | Was person in vehicle where speeding was indicated | Yes-No |\n",
    "|  **FATAL**  | Fatality of the person involved in car crash | This is the **TARGET** variable and is binary. Yes-No |\n",
    "\n",
    "\n",
    "-----------------"
   ]
  },
  {
   "cell_type": "markdown",
   "metadata": {},
   "source": [
    "# 2. WorkFlow\n",
    "\n",
    "The following tasks were performed in this project:\n",
    "![](images/workflow.png)\n",
    "\n",
    "\n",
    "-----------------"
   ]
  },
  {
   "cell_type": "markdown",
   "metadata": {},
   "source": [
    "# 3. Folder Structure\n",
    "\n",
    "The following diagram describe the folder structure:\n",
    "\n",
    "![](images/folder_structure_1.jpg)\n",
    "\n",
    "The **model_trainer** folder contains the following folders:\n",
    "\n",
    "![](images/folder_structure_2.jpg)\n",
    "\n",
    "\n",
    "\n",
    "---------------------"
   ]
  },
  {
   "cell_type": "markdown",
   "metadata": {},
   "source": [
    "# 4. Data Preprocessing"
   ]
  },
  {
   "cell_type": "markdown",
   "metadata": {},
   "source": [
    "### Data Cleaning:\n",
    "\n",
    "The detailed process of data preprocessing and cleaning notebook can be accessed [here](https://github.com/sheldonsebastian/GW-Data-Science-Datathon/blob/main/0_preprocessing_eda.ipynb)\n",
    "\n",
    "The original dataset had **596381 rows. The distribution of FATAL column:: N: 595964, Y: 417**\n",
    "\n",
    "The following data cleaning steps were performed:\n",
    "1. Drop irrelevant unique identifier columns such as OBJECTID, CRIMEID, CCN, PERSONID, VEHICLEID\n",
    "2. Column Consolidation: \n",
    "- INVEHICLETYPE colummn: It originally had **21 levels** with varying frequency. They were combined to get **9 levels** as follows: \n",
    "    \n",
    "        ['Passenger Car',  'Other Vehicle',  'Suv (sport Utility Vehicle)',  'Large/heavy Truck',  'Cargo Van',  'Other Small/light Truck', 'Bus', '2 wheeler',  'Pickup Truck']\n",
    "    \n",
    "    \n",
    "- AGE column: The numeric age column was converted into categorical with the following levels: \n",
    "    \n",
    "        [0-17, 18-20, 21-30, 31-40, 41-50, 51-60, 61-70, 71-80, 81-90]\n",
    "\n",
    "3. After converting all columns to categorical the **duplicate rows were dropped**. \n",
    "\n",
    "After cleaning, the dataset had **8181 rows. The distribution of FATAL column:: N: 8008, Y: 173**"
   ]
  },
  {
   "cell_type": "markdown",
   "metadata": {},
   "source": [
    "### Exploratory Data Analysis\n",
    "\n",
    "The detailed code of the EDA can be found [here.](https://github.com/sheldonsebastian/GW-Data-Science-Datathon/blob/main/0_preprocessing_eda.ipynb) After the data was cleaned the distribution of the features and target column was plotted.\n",
    "\n",
    "**1. FATAL:**\n",
    "\n",
    "This is the target column which we are going to predict. As we can see we have a severe class imbalance, where we have only 173 Fatal encounters and 8008 Non-Fatal encounters.\n",
    "\n",
    "![](images/eda3_fatal.jpg)\n",
    "\n",
    "**2. PERSONTYPE:**\n",
    "\n",
    "The distribution of PERSONTYPE column is shown below. Majority of values are for Driver.\n",
    "![](images/eda1_person_type.jpg)\n",
    "\n",
    "**3. AGE:**\n",
    "\n",
    "The distribution of AGE column is shown below. Majority of participants are in 21-30 range.\n",
    "![](images/eda2_age.jpg)\n",
    "\n",
    "**4. MAJORINJURY:**\n",
    "\n",
    "The distribution of MAJORINJURY column is shown below.\n",
    "![](images/eda4_major.jpg)\n",
    "\n",
    "**5. MINORINJURY:**\n",
    "\n",
    "The distribution of MINORINJURY column is shown below.\n",
    "![](images/eda5_minor.jpg)\n",
    "\n",
    "**6. INVEHICLETYPE:**\n",
    "\n",
    "The distribution of INVEHICLETYPE column is shown below. Majority of cars are passenger car.\n",
    "![](images/eda6_car_type.jpg)\n",
    "\n",
    "**7. TICKETISSUED:**\n",
    "\n",
    "The distribution of TICKETISSUED column is shown below.\n",
    "![](images/eda7_ticket.jpg)\n",
    "\n",
    "**8. LICENSEPLATESTATE:**\n",
    "\n",
    "The distribution of LICENSEPLATESTATE column is shown below. Majority of values are DC.\n",
    "![](images/eda8_state.jpg)\n",
    "\n",
    "**9. IMPAIRED:**\n",
    "\n",
    "The distribution of IMPAIRED column is shown below.\n",
    "![](images/eda9_impaired.jpg)\n",
    "\n",
    "**10. SPEEDING:**\n",
    "\n",
    "The distribution of SPEEDING column is shown below.\n",
    "![](images/eda10_speeding.jpg)"
   ]
  },
  {
   "cell_type": "markdown",
   "metadata": {},
   "source": [
    "### Stratified Train-Validation-Test Split:\n",
    "\n",
    "The detailed code of the Train-Validation-Test Split can be found [here.](https://github.com/sheldonsebastian/GW-Data-Science-Datathon/blob/main/0_preprocessing_eda.ipynb) The data was split into Train-Validation-Test in a **stratified manner**. \n",
    "\n",
    "The scheme for splitting the data is: \n",
    "**60% Train - 20% Validation - 20% Test**"
   ]
  },
  {
   "cell_type": "markdown",
   "metadata": {},
   "source": [
    "### Handling Missing Data\n",
    "\n",
    "The detailed code of handling missing data can be found [here.](https://github.com/sheldonsebastian/GW-Data-Science-Datathon/blob/main/0_preprocessing_eda.ipynb)\n",
    "\n",
    "The train-validation-test data had the following percentage of missing data:\n",
    "![](images/missing_stats.jpg)\n",
    "\n",
    "The missing data was imputed using the **most_frequent** strategy. The statistics for imputing missing data was computed using training data. This training data statistic was used in validation and testing data."
   ]
  },
  {
   "cell_type": "markdown",
   "metadata": {},
   "source": [
    "### Encoding Categorical Columns\n",
    "\n",
    "The detailed code of encoding categorical data can be found [here.](https://github.com/sheldonsebastian/GW-Data-Science-Datathon/blob/main/0_preprocessing_eda.ipynb). The categorical *feature data* was encoded using *One Hot Encoding* and the *target* data was encoded using *Label Encoder*."
   ]
  },
  {
   "cell_type": "markdown",
   "metadata": {},
   "source": [
    "### Separating Feature and Target\n",
    "\n",
    "After the data was cleaned, split, encoded and imputed the features column and target column were separated for train, validation and test and were stored as pickle files [here](https://github.com/sheldonsebastian/GW-Data-Science-Datathon/tree/main/input_data).\n",
    "\n",
    "\n",
    "\n",
    "----------------------------"
   ]
  },
  {
   "cell_type": "markdown",
   "metadata": {},
   "source": [
    "# 5. Modeling"
   ]
  },
  {
   "cell_type": "markdown",
   "metadata": {},
   "source": [
    "### Evaluation Metric\n",
    "\n",
    "Since the Target FATAL Class is **extremely imbalanced** we cannot use accuracy to evaluate model. \n",
    "\n",
    "For this project False Negatives are costlier than False Positives. \n",
    "\n",
    "In this context, *FALSE NEGATIVE* is:\n",
    "\n",
    "- GT = FATAL\n",
    "- PRED = NOT FATAL\n",
    "\n",
    "In this context, *FALSE POSITIVE* is:\n",
    "\n",
    "- GT = NOT FATAL\n",
    "- PRED = FATAL\n",
    "\n",
    "Thus we are using **[F2 score](https://machinelearningmastery.com/fbeta-measure-for-machine-learning/)** for evaluating our models."
   ]
  },
  {
   "cell_type": "markdown",
   "metadata": {},
   "source": [
    "### 1. Dummy Classifier\n",
    "\n",
    "The detailed code for Dummy Classifier can be found [here.](https://github.com/sheldonsebastian/GW-Data-Science-Datathon/blob/main/model_trainer/0_dummy_classifier.ipynb)\n",
    "\n",
    "Since False Negatives are more costlier than False positives, a dummy classifier will always predict FATAL class. Based on this we get:\n",
    "\n",
    "| Model       | F2 Score     | Split     | \n",
    "| :------------- | :----------: | -----------: |\n",
    "|  Dummy Classifier | 0.02584   |  Validation   |\n",
    "\n",
    "**This baseline model has no skill and all predicted models should perform better than this F2 score.**"
   ]
  },
  {
   "cell_type": "markdown",
   "metadata": {},
   "source": [
    "### 2. Logistic Regression\n",
    "\n",
    "The detailed code for Logistic Regression can be found [here.](https://github.com/sheldonsebastian/GW-Data-Science-Datathon/blob/main/model_trainer/1_logistic_regression.ipynb)\n",
    "\n",
    "The following steps were performed for Logistic Regression:\n",
    "- Perform **Categorical SMOTE** on training data to oversample the minority class. The sampling strategy for SMOTE is **0.05** i.e. for every 1:minor datapoint we will have 20:major data points. This sampling strategy was used to avoid overfitting to the minority class.\n",
    "- For Logistic Regression **class_weight** was set to balanced to handle the class imbalance.\n",
    "- Grid Search was performed on multiple parameters to get the best model.\n",
    "- Best model saved [here](https://github.com/sheldonsebastian/GW-Data-Science-Datathon/tree/main/model_trainer/best_saved_models)\n",
    "- Hyperparameter runs can be accessed [here](https://github.com/sheldonsebastian/GW-Data-Science-Datathon/tree/main/model_trainer/metric_logs)\n",
    "\n",
    "The performance of best model on validation data is:\n",
    "\n",
    "| Model       | F2 Score     | Split     | \n",
    "| :------------- | :----------: | -----------: |\n",
    "|  Logistic Regression | 0.462046   |  Validation   |\n"
   ]
  },
  {
   "cell_type": "markdown",
   "metadata": {},
   "source": [
    "### 3. Decision Tree Classifier\n",
    "\n",
    "The detailed code for Decision Tree Classifier can be found [here.](https://github.com/sheldonsebastian/GW-Data-Science-Datathon/blob/main/model_trainer/2_decision_tree.ipynb)\n",
    "\n",
    "The following steps were performed for Decision Tree Classifier:\n",
    "- Perform **Categorical SMOTE** on training data to oversample the minority class. The sampling strategy for SMOTE is **0.05** i.e. for every 1:minor datapoint we will have 20:major data points. This sampling strategy was used to avoid overfitting to the minority class.\n",
    "- For Decision Tree Classifier **class_weight** was set to balanced to handle the class imbalance.\n",
    "- Grid Search was performed on multiple parameters to get the best model.\n",
    "- Best model saved [here](https://github.com/sheldonsebastian/GW-Data-Science-Datathon/tree/main/model_trainer/best_saved_models)\n",
    "- Hyperparameter runs can be accessed [here](https://github.com/sheldonsebastian/GW-Data-Science-Datathon/tree/main/model_trainer/metric_logs)\n",
    "\n",
    "The performance of best model on validation data is:\n",
    "\n",
    "| Model       | F2 Score     | Split     | \n",
    "| :------------- | :----------: | -----------: |\n",
    "|  Decision Tree Classifier |  0.397351  |  Validation   |\n"
   ]
  },
  {
   "cell_type": "markdown",
   "metadata": {},
   "source": [
    "### 4. Random Forest Classifier\n",
    "\n",
    "The detailed code for random forest classifier can be found [here.](https://github.com/sheldonsebastian/GW-Data-Science-Datathon/blob/main/model_trainer/3_random_forest.ipynb)\n",
    "\n",
    "The following steps were performed for Random Forest Classifier:\n",
    "- Perform **Categorical SMOTE** on training data to oversample the minority class. The sampling strategy for SMOTE is **0.05** i.e. for every 1:minor datapoint we will have 20:major data points. This sampling strategy was used to avoid overfitting to the minority class.\n",
    "- For Random Forest Classifier **class_weight** was set to balanced to handle the class imbalance.\n",
    "- Grid Search was performed on multiple parameters to get the best model.\n",
    "- Best model saved [here](https://github.com/sheldonsebastian/GW-Data-Science-Datathon/tree/main/model_trainer/best_saved_models)\n",
    "- Hyperparameter runs can be accessed [here](https://github.com/sheldonsebastian/GW-Data-Science-Datathon/tree/main/model_trainer/metric_logs)\n",
    "\n",
    "The performance of best model on validation data is:\n",
    "\n",
    "| Model       | F2 Score     | Split     | \n",
    "| :------------- | :----------: | -----------: |\n",
    "|  Random Forest Classifier |  0.416667  |  Validation   |\n"
   ]
  },
  {
   "cell_type": "markdown",
   "metadata": {},
   "source": [
    "### 5. XGBoost\n",
    "\n",
    "The detailed code for XGBoost can be found [here.](https://github.com/sheldonsebastian/GW-Data-Science-Datathon/blob/main/model_trainer/4_XGBoost.ipynb)\n",
    "\n",
    "The following steps were performed for XGBoost:\n",
    "- Perform **Categorical SMOTE** on training data to oversample the minority class. The sampling strategy for SMOTE is **0.05** i.e. for every 1:minor datapoint we will have 20:major data points. This sampling strategy was used to avoid overfitting to the minority class.\n",
    "- For XGBoost weights were computed using **(major_class//minor_class)** to handle class imbalance.\n",
    "- Grid Search was performed on multiple parameters to get the best model.\n",
    "- Best model saved [here](https://github.com/sheldonsebastian/GW-Data-Science-Datathon/tree/main/model_trainer/best_saved_models)\n",
    "- Hyperparameter runs can be accessed [here](https://github.com/sheldonsebastian/GW-Data-Science-Datathon/tree/main/model_trainer/metric_logs)\n",
    "\n",
    "The performance of best model on validation data is:\n",
    "\n",
    "| Model       | F2 Score     | Split     | \n",
    "| :------------- | :----------: | -----------: |\n",
    "|  XGBoost |  0.432277  |  Validation   |\n"
   ]
  },
  {
   "cell_type": "markdown",
   "metadata": {},
   "source": [
    "### 6. Model Ensemble\n",
    "\n",
    "The detailed code for ensembling can be found [here](https://github.com/sheldonsebastian/GW-Data-Science-Datathon/blob/main/model_trainer/5_ensemble.ipynb)\n",
    "\n",
    "The top 3 models using validation score was selected in **hard voting** manner for ensembling. They include:\n",
    "1. Logistic regression\n",
    "2. Random Forest \n",
    "3. XGBoost\n",
    "\n",
    "The performance of best model on validation data is:\n",
    "\n",
    "| Model       | F2 Score     | Split     | \n",
    "| :------------- | :----------: | -----------: |\n",
    "|  Ensemble |  0.50793  |  Validation   |\n",
    "\n",
    "\n",
    "\n",
    "-------------------"
   ]
  },
  {
   "cell_type": "markdown",
   "metadata": {},
   "source": [
    "# 6. Performance Comparison\n",
    "\n",
    "All trained models were evaluated on Test Dataset and the F2 scores are as follows:\n",
    "\n",
    "| Model       | F2 Score     | Split     | \n",
    "| :------------- | :----------: | -----------: |\n",
    "|  Dummy Classifier (Baseline) |  0.0265  |  Test   |\n",
    "|  Logistic Regression |  0.4029  |  Test   |\n",
    "|  Decision Tree Classifier |  0.3532  |  Test   |\n",
    "|  Random Forest Classifier |  0.4078  |  Test   |\n",
    "|  XGBoost Classifier |  0.3743  |  Test   |\n",
    "|  Ensemble (LR + RFC + XGB) |  0.4302  |  Test   |\n",
    "\n",
    "The Ensemble model was based on top 3 models with high F2 score for validation dataset. The F2 scores for all models were better than Dummy Classifier.\n",
    "\n",
    "-------------------"
   ]
  },
  {
   "cell_type": "markdown",
   "metadata": {},
   "source": [
    "# 7. Model Interpretation\n",
    "\n",
    "----------------------"
   ]
  },
  {
   "cell_type": "markdown",
   "metadata": {},
   "source": [
    "# 8. Conclusion\n",
    "\n",
    "#### Future Scope:\n",
    "....\n",
    "\n",
    "---------------------"
   ]
  },
  {
   "cell_type": "markdown",
   "metadata": {},
   "source": [
    "# References\n",
    "\n",
    "- https://nycdatascience.com/blog/student-works/predicting-road-accident-fatality-likelihood/\n",
    "- https://en.wikipedia.org/wiki/Road_traffic_safety\n",
    "- https://machinelearningmastery.com/fbeta-measure-for-machine-learning/\n",
    "- [Utilities](https://github.com/yuxiaohuang/teaching/blob/master/gwu/machine_learning_I/fall_2020/code/utilities/p2_shallow_learning/pmlm_utilities_shallow.ipynb)\n",
    "- [Regression](https://github.com/yuxiaohuang/teaching/blob/master/gwu/machine_learning_I/fall_2020/code/p2_shallow_learning/p2_c1_data_preprocessing/code_example/regression.ipynb)\n",
    "- [Classification](https://github.com/yuxiaohuang/teaching/blob/master/gwu/machine_learning_I/fall_2020/code/p2_shallow_learning/p2_c1_data_preprocessing/code_example/classification.ipynb)\n",
    "- [Tree Models](https://github.com/yuxiaohuang/teaching/blob/master/gwu/machine_learning_I/fall_2020/code/p2_shallow_learning/p2_c2_supervised_learning/p2_c2_s5_tree_based_models/code_example/code_example.ipynb)\n",
    "- [Logistic Regression](https://github.com/yuxiaohuang/teaching/blob/master/gwu/machine_learning_I/fall_2020/code/p2_shallow_learning/p2_c2_supervised_learning/p2_c2_s3_logistic_regression/case_study/case_study_bcw.ipynb)\n",
    "- [Imbalanced Classification German Bank](https://machinelearningmastery.com/imbalanced-classification-of-good-and-bad-credit/)"
   ]
  },
  {
   "cell_type": "code",
   "execution_count": null,
   "metadata": {},
   "outputs": [],
   "source": []
  }
 ],
 "metadata": {
  "kernelspec": {
   "display_name": "Python 3",
   "language": "python",
   "name": "python3"
  },
  "language_info": {
   "codemirror_mode": {
    "name": "ipython",
    "version": 3
   },
   "file_extension": ".py",
   "mimetype": "text/x-python",
   "name": "python",
   "nbconvert_exporter": "python",
   "pygments_lexer": "ipython3",
   "version": "3.7.9"
  }
 },
 "nbformat": 4,
 "nbformat_minor": 4
}
