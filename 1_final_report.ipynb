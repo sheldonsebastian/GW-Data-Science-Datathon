{
 "cells": [
  {
   "cell_type": "markdown",
   "metadata": {},
   "source": [
    "# Fatality Prediction for Car Crash\n",
    "\n",
    "Sheldon Sebastian\n",
    "\n",
    "-------------"
   ]
  },
  {
   "cell_type": "markdown",
   "metadata": {},
   "source": [
    "![](images/Banner.jpg)\n",
    "\n",
    "\n",
    "adjbakjhlhl"
   ]
  },
  {
   "cell_type": "markdown",
   "metadata": {},
   "source": [
    "## Table of Contents:\n",
    "\n",
    "- Abstract\n",
    "- Introduction\n",
    "    - Business Usecase\n",
    "    - Dataset Description\n",
    "- Workflow \n",
    "- Folder Structure\n",
    "- Pipeline\n",
    "    - Data Preprocessing and Cleaning\n",
    "    - Exploratory Data Analysis\n",
    "    - Evaluation Metric\n",
    "    - Modeling \n",
    "        - Dummy Classifier\n",
    "        - Logistic Regression\n",
    "        - Decision Tree\n",
    "        - Random Forest\n",
    "        - XGBoost\n",
    "        - Model Ensemble\n",
    "- Performance Comparison\n",
    "- Model Interpretation\n",
    "- Conclusion\n",
    "- References"
   ]
  },
  {
   "cell_type": "code",
   "execution_count": null,
   "metadata": {},
   "outputs": [],
   "source": []
  }
 ],
 "metadata": {
  "kernelspec": {
   "display_name": "Python 3",
   "language": "python",
   "name": "python3"
  },
  "language_info": {
   "codemirror_mode": {
    "name": "ipython",
    "version": 3
   },
   "file_extension": ".py",
   "mimetype": "text/x-python",
   "name": "python",
   "nbconvert_exporter": "python",
   "pygments_lexer": "ipython3",
   "version": "3.7.9"
  }
 },
 "nbformat": 4,
 "nbformat_minor": 4
}
